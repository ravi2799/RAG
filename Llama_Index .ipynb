{
  "cells": [
    {
      "cell_type": "markdown",
      "metadata": {
        "id": "jMSP3_MQeH99"
      },
      "source": [
        "# What is LlamaIndex?\n",
        "\n",
        "LLMs offer a natural language interface between humans and data. Widely\n",
        "available models come pre-trained on huge amounts of publicly available data like Wikipedia, mailing lists, textbooks, source code and more.\n",
        "\n",
        "However, while LLMs are trained on a great deal of data, they are not trained on your data, which may be private or specific to the problem you’re trying to solve. It’s behind APIs, in SQL databases, or trapped in PDFs and slide decks.\n",
        "\n",
        "LlamaIndex solves this problem by connecting to these data sources and adding your data to the data LLMs already have. This is often called Retrieval-Augmented Generation (RAG). RAG enables you to use LLMs to query your data, transform it, and generate new insights. You can ask questions about your data, create chatbots, build semi-autonomous agents, and more. To learn more, check out our Use Cases on the left."
      ]
    },
    {
      "cell_type": "markdown",
      "metadata": {
        "id": "DlDeHBVieI65"
      },
      "source": [
        "# What is diffenece between LlamaIndex and LangChain?\n",
        "\n",
        "Langchain is a more general-purpose framework that can be used to build a wide variety of applications. It provides tools for loading, processing, and indexing data, as well as for interacting with LLMs. Langchain is also more flexible than LlamaIndex, allowing users to customize the behavior of their applications.\n",
        "\n",
        "LlamaIndex is specifically designed for building search and retrieval applications. It provides a simple interface for querying LLMs and retrieving relevant documents. LlamaIndex is also more efficient than Langchain, making it a better choice for applications that need to process large amounts of data.\n",
        "\n",
        "<b><h4> So which one should you choose? </h4></b>\n",
        "\n",
        "\n",
        "LangChain is ideal if you are looking for a broader framework to bring multiple tools together. LangChain is also suitable for building intelligent agents capable of performing multiple tasks simultaneously.\n",
        "\n",
        "On the other hand, if your main goal is smart search and retrieval, LlamaIndex is a great choice. It excels in indexing and retrieval for LLMs, making it a powerful tool for deep exploration of data.\n"
      ]
    },
    {
      "cell_type": "markdown",
      "metadata": {
        "id": "pREBMaGxeJXi"
      },
      "source": [
        "# How can LlamaIndex help?\n",
        "\n",
        "LlamaIndex provides the following tools:\n",
        "\n",
        "\n",
        "*   Data connectors:  ingest your existing data from their native source and format. These could be APIs, PDFs, SQL, and (much) more.\n",
        "*   Data indexes: structure your data in intermediate representations that are easy and performant for LLMs to consume.\n",
        "*   Engines: provide natural language access to your data. For example: - Query engines are powerful retrieval interfaces for knowledge-augmented output. - Chat engines are conversational interfaces for multi-message, “back and forth” interactions with your data.\n",
        "*   Data agents: are LLM-powered knowledge workers augmented by tools, from simple helper functions to API integrations and more.\n",
        "*   Application integrations: tie LlamaIndex back into the rest of your ecosystem. This could be LangChain, Flask, Docker, ChatGPT, or… anything else!"
      ]
    },
    {
      "cell_type": "markdown",
      "metadata": {
        "id": "SP1ZzaUpl6JD"
      },
      "source": [
        "# Retrieval Augmented Generation (RAG)\n",
        "\n",
        "LLMs are trained on enormous bodies of data but they aren’t trained on your data. Retrieval-Augmented Generation (RAG) solves this problem by adding your data to the data LLMs already have access to.\n",
        "\n",
        "### Stages in RAG\n",
        "\n",
        "\n",
        "1.   Loading Stage:\n",
        "\n",
        "      *   Nodes and Documents:\n",
        "      \n",
        "            Document objects represent entire files, while Nodes are smaller pieces of that original document, that are suitable for an LLM and Q&A.\n",
        "\n",
        "      *   Connectors\n",
        "\n",
        "            Plugins that allow us to take in data from a source (such as PDF files) and then use the loaded data in our LLM application.\n",
        "\n",
        "      We can use different types of data loaders. https://llamahub.ai/\n",
        "           \n",
        "2.   Indexing and Storing Stage\n",
        "\n",
        "      *   Indexes and Embeddings\n",
        "\n",
        "      Once you’ve ingested your data, LlamaIndex will help you index the data into a structure that’s easy to retrieve. In this stage involes generating vector embeddings which are stored in vector store. We can also store metadata.\n",
        "   \n",
        "3.   Querying Stage\n",
        "\n",
        "      *   Retrievers\n",
        "\n",
        "          It defines how to efficiently retrieve relevant context from a knowledge base (i.e. index) when given a query.\n",
        "\n",
        "      *   Node Postprocessors\n",
        "\n",
        "          A node postprocessor takes in a set of retrieved nodes and applies transformations, filtering, or re-ranking logic to them.\n",
        "\n",
        "      *   Response Synthesizers\n",
        "\n",
        "          A response synthesizer generates a response from an LLM, using a user query and a given set of retrieved text chunks.\n",
        "\n",
        "4.   Evaluation\n",
        "      \n",
        "     *    Evaluation provides objective measures of how accurate, faithful and fast your responses to queries are.\n",
        "\n",
        "\n"
      ]
    },
    {
      "cell_type": "code",
      "execution_count": 1,
      "metadata": {},
      "outputs": [
        {
          "name": "stderr",
          "output_type": "stream",
          "text": [
            "/Users/ravirajsavaliya/Library/Python/3.9/lib/python/site-packages/tqdm/auto.py:21: TqdmWarning: IProgress not found. Please update jupyter and ipywidgets. See https://ipywidgets.readthedocs.io/en/stable/user_install.html\n",
            "  from .autonotebook import tqdm as notebook_tqdm\n"
          ]
        },
        {
          "name": "stdout",
          "output_type": "stream",
          "text": [
            "Token will not been saved to git credential helper. Pass `add_to_git_credential=True` if you want to set the git credential as well.\n",
            "Token is valid (permission: read).\n",
            "Your token has been saved to /Users/ravirajsavaliya/.cache/huggingface/token\n",
            "Login successful\n"
          ]
        }
      ],
      "source": [
        "import openai\n",
        "from sentence_transformers import SentenceTransformer\n",
        "from llama_index import VectorStoreIndex, SimpleDirectoryReader, StorageContext, load_index_from_storage, ServiceContext\n",
        "from langchain.embeddings.huggingface import HuggingFaceEmbeddings\n",
        "from llama_index.embeddings import LangchainEmbedding\n",
        "from transformers import AutoTokenizer, AutoModelForCausalLM\n",
        "from huggingface_hub import login\n",
        "from llama_index.query_engine import CustomQueryEngine\n",
        "from llama_index.retrievers import BaseRetriever\n",
        "from llama_index.prompts import PromptTemplate\n",
        "from llama_index.response_synthesizers import (get_response_synthesizer,BaseSynthesizer,)\n",
        "\n",
        "openai.api_key = \"sk-xxx\"\n"
      ]
    },
    {
      "cell_type": "code",
      "execution_count": 2,
      "metadata": {},
      "outputs": [],
      "source": [
        "embedding_model = HuggingFaceEmbeddings(model_name ='sentence-transformers/all-mpnet-base-v2')"
      ]
    },
    {
      "cell_type": "code",
      "execution_count": 42,
      "metadata": {},
      "outputs": [
        {
          "name": "stdout",
          "output_type": "stream",
          "text": [
            "Loading from disk\n"
          ]
        }
      ],
      "source": [
        "try: \n",
        "    storage_content = StorageContext.from_defaults(persist_dir=\"./storage/cache/andrew/sleep/\")\n",
        "    index = load_index_from_storage(storage_context)\n",
        "    print(\"Loading from disk\")\n",
        "except:\n",
        "    service_context = ServiceContext.from_defaults(embed_model=embedding_model)\n",
        "    documents = SimpleDirectoryReader('./AndrewHuberman/sleep').load_data()\n",
        "    index = VectorStoreIndex.from_documents(documents, service_context=service_context)\n",
        "    # to store vector data in local storage\n",
        "    index.storage_context.persist(persist_dir='./storage/cache/andrew/sleep/')\n"
      ]
    },
    {
      "cell_type": "code",
      "execution_count": null,
      "metadata": {},
      "outputs": [],
      "source": [
        "#Custom RAG\n",
        "\n",
        "from llama_index.prompts import PromptTemplate\n",
        "\n",
        "qa_prompt = PromptTemplate(\n",
        "    \"Context information is below.\\n\"\n",
        "    \"---------------------\\n\"\n",
        "    \"{context_str}\\n\"\n",
        "    \"---------------------\\n\"\n",
        "    \"Given the context information and not prior knowledge, \"\n",
        "    \"answer the query.\\n\"\n",
        "    \"Query: {query_str}\\n\"\n",
        "    \"Answer: \"\n",
        ")\n",
        "\n",
        "class RAGStringQueryEngine(CustomQueryEngine):\n",
        "    \"\"\"RAG String Query Engine.\"\"\"\n",
        "\n",
        "    retriever: BaseRetriever\n",
        "    response_synthesizer: BaseSynthesizer\n",
        "    llm: model\n",
        "    qa_prompt: PromptTemplate\n",
        "\n",
        "    def custom_query(self, query_str: str):\n",
        "        nodes = self.retriever.retrieve(query_str)\n",
        "\n",
        "        context_str = \"\\n\\n\".join([n.node.get_content() for n in nodes])\n",
        "        response = self.llm.complete(\n",
        "            qa_prompt.format(context_str=context_str, query_str=query_str)\n",
        "        )\n",
        "        return str(response)"
      ]
    },
    {
      "cell_type": "code",
      "execution_count": 4,
      "metadata": {},
      "outputs": [
        {
          "name": "stderr",
          "output_type": "stream",
          "text": [
            "huggingface/tokenizers: The current process just got forked, after parallelism has already been used. Disabling parallelism to avoid deadlocks...\n",
            "To disable this warning, you can either:\n",
            "\t- Avoid using `tokenizers` before the fork if possible\n",
            "\t- Explicitly set the environment variable TOKENIZERS_PARALLELISM=(true | false)\n"
          ]
        },
        {
          "name": "stdout",
          "output_type": "stream",
          "text": [
            "Sunlight affects sleep by playing a crucial role in regulating the circadian rhythm, which is the internal 24-hour clock that controls sleep-wake cycles. Exposure to bright sunlight, especially in the morning, helps to synchronize the circadian rhythm and promote alertness and wakefulness during the day. Sunlight exposure early in the day can make it easier to fall asleep at night and improve overall sleep quality. The intensity and duration of sunlight exposure are important factors, with brighter and longer exposure being more beneficial for regulating the circadian rhythm. Even on cloudy days, outdoor light is still brighter than indoor light and can have a positive impact on sleep. Conversely, lack of sunlight, such as staying indoors or using artificial light late at night, can disrupt the circadian rhythm and lead to sleep problems, including delayed sleep-wake cycles and difficulty falling asleep at night.\n"
          ]
        }
      ],
      "source": [
        "query_engine = index.as_query_engine()\n",
        "response = query_engine.query(\"How does sun light affect sleep?\")\n",
        "print(response)"
      ]
    },
    {
      "cell_type": "markdown",
      "metadata": {},
      "source": [
        "### Chapter 2"
      ]
    },
    {
      "cell_type": "code",
      "execution_count": 39,
      "metadata": {},
      "outputs": [],
      "source": [
        "from llama_index.response.pprint_utils import pprint_response\n",
        "from llama_index.retrievers import VectorIndexRetriever\n",
        "from llama_index.query_engine import RetrieverQueryEngine\n",
        "from llama_index.indices.postprocessor import SimilarityPostprocessor , KeywordNodePostprocessor\n",
        "from llama_index.response_synthesizers import get_response_synthesizer"
      ]
    },
    {
      "cell_type": "code",
      "execution_count": 15,
      "metadata": {},
      "outputs": [
        {
          "name": "stderr",
          "output_type": "stream",
          "text": [
            "huggingface/tokenizers: The current process just got forked, after parallelism has already been used. Disabling parallelism to avoid deadlocks...\n",
            "To disable this warning, you can either:\n",
            "\t- Avoid using `tokenizers` before the fork if possible\n",
            "\t- Explicitly set the environment variable TOKENIZERS_PARALLELISM=(true | false)\n",
            "huggingface/tokenizers: The current process just got forked, after parallelism has already been used. Disabling parallelism to avoid deadlocks...\n",
            "To disable this warning, you can either:\n",
            "\t- Avoid using `tokenizers` before the fork if possible\n",
            "\t- Explicitly set the environment variable TOKENIZERS_PARALLELISM=(true | false)\n"
          ]
        },
        {
          "name": "stdout",
          "output_type": "stream",
          "text": [
            "Final Response: To sleep better, there are several things you can try.\n",
            "First, you can lower your core body temperature by taking a hot shower\n",
            "or bath and then cooling off afterwards. This can help you relax and\n",
            "prepare for sleep. Additionally, it's important to establish a\n",
            "consistent sleep-wake cycle and avoid caffeine in the hours leading up\n",
            "to bedtime. Creating a calming bedtime routine, such as dimming the\n",
            "lights and avoiding stimulating activities, can also promote better\n",
            "sleep. It's worth noting that alcohol and substances like THC may help\n",
            "some people fall asleep, but they can disrupt the quality of sleep.\n",
            "It's generally recommended to prioritize behavioral tools, nutrition,\n",
            "and supplementation before considering prescription drugs. Other tools\n",
            "that may improve sleep include using earplugs or an eye mask if they\n",
            "are helpful for you, elevating your feet or the head side of your bed\n",
            "to enhance sleep depth, and practicing nose breathing during sleep to\n",
            "alleviate sleep apnea and promote better breathing patterns.\n",
            "______________________________________________________________________\n",
            "Source Node 1/2\n",
            "Node ID: f110f279-d791-49b1-91db-e1c84b3b57b9\n",
            "Similarity: 0.8492701516644462\n",
            "Text: Well, there are a few things that you can do to try and bring\n",
            "your nervous system down into more state of calmness, and you can do\n",
            "that also by lowering your core body temperature. One of those I\n",
            "already talked about before, taking a nice hot shower or a hot bath\n",
            "and then getting out and cooling off will decrease your body\n",
            "temperature. Maybe not...\n",
            "______________________________________________________________________\n",
            "Source Node 2/2\n",
            "Node ID: 38103835-08f9-4329-8469-577476519a0a\n",
            "Similarity: 0.8482722642372222\n",
            "Text: I'm one such person. Although, I have family members that like\n",
            "using earplugs when they sleep. So it's really up to you. You have to\n",
            "see whether or not those earplugs help or disrupt your sleep. For me,\n",
            "they're no good. For some people, they really enjoy them. I don't use\n",
            "an eye mask unless I'm sleeping in a really bright environment or I\n",
            "need t...\n"
          ]
        }
      ],
      "source": [
        "documents = SimpleDirectoryReader('./AndrewHuberman/sleep').load_data()\n",
        "index = VectorStoreIndex.from_documents(documents)\n",
        "\n",
        "query_engine = index.as_query_engine()\n",
        "response = query_engine.query(\"How to sleep better?\")\n",
        "pprint_response(response,show_source=True)"
      ]
    },
    {
      "cell_type": "code",
      "execution_count": 16,
      "metadata": {},
      "outputs": [
        {
          "name": "stderr",
          "output_type": "stream",
          "text": [
            "huggingface/tokenizers: The current process just got forked, after parallelism has already been used. Disabling parallelism to avoid deadlocks...\n",
            "To disable this warning, you can either:\n",
            "\t- Avoid using `tokenizers` before the fork if possible\n",
            "\t- Explicitly set the environment variable TOKENIZERS_PARALLELISM=(true | false)\n"
          ]
        }
      ],
      "source": [
        "documents = SimpleDirectoryReader('./AndrewHuberman/sleep').load_data()\n",
        "index = VectorStoreIndex.from_documents(documents)"
      ]
    },
    {
      "cell_type": "code",
      "execution_count": 35,
      "metadata": {},
      "outputs": [],
      "source": [
        "s_processor = SimilarityPostprocessor(similarity_cutoff = 0.83)\n",
        "k_processor = KeywordNodePostprocessor(exclude_keywords=[\"temperature\"])\n",
        "retrivever = VectorIndexRetriever(index = index, similarity_top_k= 3)\n",
        "# query_engine = RetrieverQueryEngine(retriever= retrivever , node_postprocessors=[s_processor]) \n",
        "\n",
        "query_engine = RetrieverQueryEngine(retriever= retrivever , node_postprocessors=[k_processor]) \n"
      ]
    },
    {
      "cell_type": "markdown",
      "metadata": {},
      "source": [
        "## Filter the results based on 0.83"
      ]
    },
    {
      "cell_type": "code",
      "execution_count": 38,
      "metadata": {},
      "outputs": [
        {
          "name": "stdout",
          "output_type": "stream",
          "text": [
            "Final Response: To improve your sleep, there are several things you\n",
            "can try. Some people find using earplugs helpful, while others do not.\n",
            "It's a personal preference, so you can see if they work for you. If\n",
            "you sleep in a bright environment or need to sleep on a plane, using\n",
            "an eye mask can be beneficial. Elevating your feet with a pillow or by\n",
            "raising the end of your bed by about three to five degrees can\n",
            "increase the depth of sleep. However, if you suffer from acid reflux,\n",
            "it's better to elevate the head side of your bed instead. Sleep apnea,\n",
            "which is bouts of suffocation or lack of oxygenation during sleep, can\n",
            "be very detrimental to your health. If it's not too serious, training\n",
            "yourself to be a nose breather while you sleep can help relieve sleep\n",
            "apnea. You can tape your mouth shut before going to sleep to encourage\n",
            "nose breathing and prevent snoring. It's also a good idea to be a nose\n",
            "breather during exercise, as it can translate to being a nose breather\n",
            "during sleep.\n",
            "______________________________________________________________________\n",
            "Source Node 1/1\n",
            "Node ID: dca2bbbf-f39e-4bd7-834a-e8b564dba23e\n",
            "Similarity: 0.8422913194663321\n",
            "Text: I'm one such person. Although, I have family members that like\n",
            "using earplugs when they sleep. So it's really up to you. You have to\n",
            "see whether or not those earplugs help or disrupt your sleep. For me,\n",
            "they're no good. For some people, they really enjoy them. I don't use\n",
            "an eye mask unless I'm sleeping in a really bright environment or I\n",
            "need t...\n",
            "To improve your sleep, there are several things you can try. Some people find using earplugs helpful, while others do not. It's a personal preference, so you can see if they work for you. If you sleep in a bright environment or need to sleep on a plane, using an eye mask can be beneficial. Elevating your feet with a pillow or by raising the end of your bed by about three to five degrees can increase the depth of sleep. However, if you suffer from acid reflux, it's better to elevate the head side of your bed instead. Sleep apnea, which is bouts of suffocation or lack of oxygenation during sleep, can be very detrimental to your health. If it's not too serious, training yourself to be a nose breather while you sleep can help relieve sleep apnea. You can tape your mouth shut before going to sleep to encourage nose breathing and prevent snoring. It's also a good idea to be a nose breather during exercise, as it can translate to being a nose breather during sleep.\n"
          ]
        }
      ],
      "source": [
        "response = query_engine.query(\"What can i do for better sleep?\")\n",
        "pprint_response(response,show_source=True)\n",
        "print(response)"
      ]
    },
    {
      "cell_type": "code",
      "execution_count": 40,
      "metadata": {},
      "outputs": [
        {
          "name": "stdout",
          "output_type": "stream",
          "text": [
            "Final Response:\n",
            "______________________________________________________________________\n",
            "Source Node 1/1\n",
            "Node ID: dca2bbbf-f39e-4bd7-834a-e8b564dba23e\n",
            "Similarity: 0.8449979850780629\n",
            "Text: I'm one such person. Although, I have family members that like\n",
            "using earplugs when they sleep. So it's really up to you. You have to\n",
            "see whether or not those earplugs help or disrupt your sleep. For me,\n",
            "they're no good. For some people, they really enjoy them. I don't use\n",
            "an eye mask unless I'm sleeping in a really bright environment or I\n",
            "need t...\n",
            "None\n"
          ]
        }
      ],
      "source": [
        "response_synthesizer = get_response_synthesizer(response_mode = \"no_text\")\n",
        "\n",
        "query_engine = RetrieverQueryEngine(retriever= retrivever, node_postprocessors= [k_processor],response_synthesizer= response_synthesizer)\n",
        "response = query_engine.query(\"what can i do for better sleep?\")\n",
        "pprint_response(response,show_source=True)\n",
        "print(response)"
      ]
    },
    {
      "cell_type": "code",
      "execution_count": 41,
      "metadata": {},
      "outputs": [
        {
          "name": "stdout",
          "output_type": "stream",
          "text": [
            "[NodeWithScore(node=TextNode(id_='dca2bbbf-f39e-4bd7-834a-e8b564dba23e', embedding=None, metadata={'file_path': 'AndrewHuberman/sleep/84_Sleep_Toolkit_Tools_for_Optimizing_Sleep_&_SleepWake_Timing_Huberman_Lab_Podcast_84.txt', 'file_name': '84_Sleep_Toolkit_Tools_for_Optimizing_Sleep_&_SleepWake_Timing_Huberman_Lab_Podcast_84.txt', 'file_type': 'text/plain', 'file_size': 113543, 'creation_date': '2023-11-22', 'last_modified_date': '2023-10-04', 'last_accessed_date': '2023-11-22'}, excluded_embed_metadata_keys=['file_name', 'file_type', 'file_size', 'creation_date', 'last_modified_date', 'last_accessed_date'], excluded_llm_metadata_keys=['file_name', 'file_type', 'file_size', 'creation_date', 'last_modified_date', 'last_accessed_date'], relationships={<NodeRelationship.SOURCE: '1'>: RelatedNodeInfo(node_id='c24e6fad-804e-4501-9eca-a490ffe8e5e1', node_type=<ObjectType.DOCUMENT: '4'>, metadata={'file_path': 'AndrewHuberman/sleep/84_Sleep_Toolkit_Tools_for_Optimizing_Sleep_&_SleepWake_Timing_Huberman_Lab_Podcast_84.txt', 'file_name': '84_Sleep_Toolkit_Tools_for_Optimizing_Sleep_&_SleepWake_Timing_Huberman_Lab_Podcast_84.txt', 'file_type': 'text/plain', 'file_size': 113543, 'creation_date': '2023-11-22', 'last_modified_date': '2023-10-04', 'last_accessed_date': '2023-11-22'}, hash='5fe4c5bc29f73b47b70e521e0f3b0b87b31e75dfcb71497cd6d283e2966ced3d'), <NodeRelationship.PREVIOUS: '2'>: RelatedNodeInfo(node_id='895818f3-34a4-49e6-a098-80f6308b38b8', node_type=<ObjectType.TEXT: '1'>, metadata={'file_path': 'AndrewHuberman/sleep/84_Sleep_Toolkit_Tools_for_Optimizing_Sleep_&_SleepWake_Timing_Huberman_Lab_Podcast_84.txt', 'file_name': '84_Sleep_Toolkit_Tools_for_Optimizing_Sleep_&_SleepWake_Timing_Huberman_Lab_Podcast_84.txt', 'file_type': 'text/plain', 'file_size': 113543, 'creation_date': '2023-11-22', 'last_modified_date': '2023-10-04', 'last_accessed_date': '2023-11-22'}, hash='57b67b197d04840318247800eb3cc0cf6b29dcf2ed0691cf7eaae63de1332343'), <NodeRelationship.NEXT: '3'>: RelatedNodeInfo(node_id='010d8a8a-b6d7-4803-b285-aeb17ac7d793', node_type=<ObjectType.TEXT: '1'>, metadata={'file_path': 'AndrewHuberman/sleep/84_Sleep_Toolkit_Tools_for_Optimizing_Sleep_&_SleepWake_Timing_Huberman_Lab_Podcast_84.txt', 'file_name': '84_Sleep_Toolkit_Tools_for_Optimizing_Sleep_&_SleepWake_Timing_Huberman_Lab_Podcast_84.txt', 'file_type': 'text/plain', 'file_size': 113543, 'creation_date': '2023-11-22', 'last_modified_date': '2023-10-04', 'last_accessed_date': '2023-11-22'}, hash='7a72e8740eb2641a41ac88ea9bdeb2a644a85911db6e10f4c5344f8d994a0ce9')}, hash='4a770199e4c7b889843bd312b2960ac9b1802bfd41d3e467a4ecde87b4c21284', text='I\\'m one such person. Although, I have family members that like using earplugs when they sleep. So it\\'s really up to you. You have to see whether or not those earplugs help or disrupt your sleep. For me, they\\'re no good. For some people, they really enjoy them. I don\\'t use an eye mask unless I\\'m sleeping in a really bright environment or I need to sleep on a plane and things of that sort. Other tools that I\\'ll just mention that have peer-reviewed research to support them. Elevating your feet either with a pillow or by elevating the end of your bed by about three to five degrees can be really beneficial for increasing the depth of sleep because of the so-called glymphatic washout. This is the movement of and circulation of fluids in your brain at night that lead to more wakefulness and actually can improve cognitive function and a number of other things related to brain health. There\\'s one caveat to that. For people that suffer from acid reflux, having your ankles elevated above your chest or above your heart in the middle of the night can actually exacerbate that acid reflux. You want to do the opposite. You want to actually elevate the head side of your bed by about three to five degrees. Now, one of the common causes of sleep disruption that has tremendously detrimental effects is so-called sleep apnea. So this is basically bouts of suffocation or lack of oxygenation during sleep. This is particularly the case for people that are very heavyset, and that heavyset could be from obesity, it could also be heavyset from having too much muscle. A lot of people who are carrying too much muscle will actually have sleep apnea without realizing it. Sleep apnea is actually very dangerous. It\\'s associated with a number of cardiovascular issues. It\\'s associated with sexual dysfunction. It\\'s associated with issues with cognition. Sleep apnea is bad. A lot of people will have to use the PAP, which is a, it\\'s a device. It looks like a sort of like a snorkel mask or a dive mask. It\\'s a whole apparatus that people will go to sleep with. However, many people can relieve themselves of sleep apnea provided it\\'s not too serious and can sleep much better, in fact, I think all people can sleep much better, if they train themselves to be nose breathers while they sleep. There are a lot of reasons to be a nose breather unless you are breathing very hard due to exercise or talking or eating. That was all covered in James Nestor\\'s book, \"Breath: The New Science of a Lost Art.\" It\\'s been covered in a number of different podcasts. We\\'ve talked about it on this podcast as well. It\\'s a good idea to be a nose breather unless you need to mouth breathe. And it\\'s a great idea, it\\'s a superb idea, to be a nose breather in sleep. And one way to really get good at that is to take a little bit of medical tape and to tape your mouth shut before going to sleep. You heard me right. Put some medical tape over your mouth and force yourself to nose breathe during sleep. It also prevents snoring in most cases. Really offsets sleep apnea. Sleep apnea, again, being a very serious health concern. I should also mention as a tool that if you have a hard time being a nose breather in sleep, you can try doing your cardiovascular exercise, at least the lower-intensity cardiovascular exercise, through purely nasal breathing. And one way to do that, again, is to tape your mouth shut or put a gulp of water in your mouth, but don\\'t actually swallow that mouth full of water, or to use a mouthpiece or just deliberately keep your mouth closed and insist on breathing through your nose. Most people find that when they start doing cardiovascular exercise that way, it\\'s really challenging at first, but over time, they actually can feel quite calm and still can generate a lot of physical effort purely using nose breathing. The reason that doing nose breathing during cardiovascular exercise translates to being a nose breather during sleep is that your sinuses actually can dilate, they\\'re plastic, and over time, plastic meaning they\\'re malleable that is, and they can become wider. You\\'re not going to get giant nostrils. Don\\'t worry about it. Your airways within your skull, \\'cause that\\'s what the sinuses really are, these little passages within the skull, and, of course, within the nasal passages, will dilate and will allow you to breathe more easily through your nose.', start_char_idx=None, end_char_idx=None, text_template='{metadata_str}\\n\\n{content}', metadata_template='{key}: {value}', metadata_seperator='\\n'), score=0.8449979850780629)]\n"
          ]
        }
      ],
      "source": [
        "response = query_engine.query(\"what can i do for better sleep?\")\n",
        "print(response.source_nodes)"
      ]
    },
    {
      "cell_type": "markdown",
      "metadata": {},
      "source": [
        "## How to count tokens used when creating and querying LlamaIndex"
      ]
    },
    {
      "cell_type": "markdown",
      "metadata": {},
      "source": [
        "#### Byte Pair Encoding\n"
      ]
    },
    {
      "cell_type": "code",
      "execution_count": 47,
      "metadata": {},
      "outputs": [],
      "source": [
        "import tiktoken\n",
        "from llama_index import ServiceContext\n",
        "from llama_index.callbacks import CallbackManager, TokenCountingHandler\n",
        "\n",
        "token_counter = TokenCountingHandler( \n",
        "    tokenizer= tiktoken.encoding_for_model(\"text-embedding-ada-002\").encode,\n",
        "    verbose= True,\n",
        ")\n",
        "callback_manager = CallbackManager([token_counter])\n",
        "service_context = ServiceContext.from_defaults(callback_manager=callback_manager)"
      ]
    },
    {
      "cell_type": "code",
      "execution_count": 57,
      "metadata": {},
      "outputs": [
        {
          "name": "stdout",
          "output_type": "stream",
          "text": [
            "loading from disk\n"
          ]
        }
      ],
      "source": [
        "from llama_index import VectorStoreIndex, SimpleDirectoryReader, StorageContext, load_index_from_storage\n",
        "try:\n",
        "    storage_context = StorageContext.from_defaults(persist_dir='./storage/cache/andrew/sleep')\n",
        "    index = load_index_from_storage(storage_context)\n",
        "    print('loading from disk')\n",
        "except:\n",
        "    documents = SimpleDirectoryReader('./AndrewHuberman/sleep').load_data()\n",
        "    index = VectorStoreIndex.from_documents(documents)\n",
        "    index.storage_context.persist(persist_dir='./storage/cache/andrew/sleep/')\n",
        "    print('persisting to disk')"
      ]
    },
    {
      "cell_type": "code",
      "execution_count": 58,
      "metadata": {},
      "outputs": [
        {
          "name": "stderr",
          "output_type": "stream",
          "text": [
            "huggingface/tokenizers: The current process just got forked, after parallelism has already been used. Disabling parallelism to avoid deadlocks...\n",
            "To disable this warning, you can either:\n",
            "\t- Avoid using `tokenizers` before the fork if possible\n",
            "\t- Explicitly set the environment variable TOKENIZERS_PARALLELISM=(true | false)\n",
            "huggingface/tokenizers: The current process just got forked, after parallelism has already been used. Disabling parallelism to avoid deadlocks...\n",
            "To disable this warning, you can either:\n",
            "\t- Avoid using `tokenizers` before the fork if possible\n",
            "\t- Explicitly set the environment variable TOKENIZERS_PARALLELISM=(true | false)\n"
          ]
        }
      ],
      "source": [
        "response = index.as_query_engine().query(\"How does sleep enhance learning memory?\")"
      ]
    },
    {
      "cell_type": "code",
      "execution_count": 59,
      "metadata": {},
      "outputs": [
        {
          "name": "stdout",
          "output_type": "stream",
          "text": [
            "Sleep enhances learning and memory by facilitating the consolidation of information. During sleep, different stages of sleep play different roles in the learning process. Slow wave sleep, which occurs primarily in the early part of the night, is important for motor learning and the learning of specific details about specific events. It is during this stage that the brain experiences big amplitude activity and the release of neuromodulators like norepinephrine and serotonin. On the other hand, rapid eye movement (REM) sleep, which occurs throughout the night with a larger percentage towards morning, is involved in refreshing the memory and strengthening synapses. During REM sleep, the locus ceruleus is turned off, allowing for the weakening of synapses, which is an important part of lifelong learning. Additionally, the release of neurotransmitters like dopamine, norepinephrine, and galanin during REM sleep helps in rapid learning and strengthening synapses. Overall, sleep, particularly slow wave sleep and REM sleep, plays a crucial role in enhancing learning and memory by consolidating information and facilitating synaptic plasticity.\n"
          ]
        }
      ],
      "source": [
        "print(response)"
      ]
    },
    {
      "cell_type": "markdown",
      "metadata": {},
      "source": [
        "### Prompting"
      ]
    },
    {
      "cell_type": "code",
      "execution_count": 60,
      "metadata": {},
      "outputs": [],
      "source": [
        "from llama_index.prompts import PromptTemplate\n",
        "\n",
        "text_qa_template_str = (\n",
        "    \"Context information is below.\\n\"\n",
        "    \"---------------------\\n\"\n",
        "    \"{context_str}\\n\"\n",
        "    \"---------------------\\n\"\n",
        "    \"Using both the context information and also using your own knowledge, \"\n",
        "    \"answer the question: {query_str}\\n\"\n",
        "    \"If the context isn't helpful, you can also answer the question on your own.\\n\"\n",
        ")\n",
        "\n",
        "text_qa_template = PromptTemplate(text_qa_template_str)"
      ]
    },
    {
      "cell_type": "code",
      "execution_count": 61,
      "metadata": {},
      "outputs": [],
      "source": [
        "text_qa_template_str = (\n",
        "    \"You are an Andrew huberman assistant that can read Andrew Huberman podcast notes.\\n\"\n",
        "    \"Always answer the query only using the provided context information, \"\n",
        "    \"and not prior knowledge.\\n\"\n",
        "    \"Some rules to follow:\\n\"\n",
        "    \"1. Never directly reference the given context in your answer.\\n\"\n",
        "    \"2. Avoid statements like 'Based on the context, ...' or \"\n",
        "    \"'The context information ...' or anything along \"\n",
        "    \"those lines.\"\n",
        "    \"Context information is below.\\n\"\n",
        "    \"---------------------\\n\"\n",
        "    \"{context_str}\\n\"\n",
        "    \"---------------------\\n\"\n",
        "    \"Answer the question: {query_str}\\n\"\n",
        ")\n",
        "\n",
        "text_qa_template = PromptTemplate(text_qa_template_str)"
      ]
    },
    {
      "cell_type": "code",
      "execution_count": 62,
      "metadata": {},
      "outputs": [],
      "source": [
        "response = index.as_query_engine(\n",
        "    text_qa_template = text_qa_template \n",
        ").query(\"How does sleep enhance learning memory?\")"
      ]
    },
    {
      "cell_type": "code",
      "execution_count": 63,
      "metadata": {},
      "outputs": [
        {
          "name": "stdout",
          "output_type": "stream",
          "text": [
            "Sleep enhances learning and memory by facilitating two different types of memory consolidation processes during different stages of sleep. Slow wave sleep, which primarily occurs in the early part of the night, is important for motor learning and the learning of specific details about specific events. During slow wave sleep, there is a release of neuromodulators such as norepinephrine and serotonin, which contribute to the consolidation of motor skills and detailed learning. On the other hand, REM sleep, which occurs throughout the night with a larger percentage towards morning, plays a role in refreshing and strengthening long-term memories. During REM sleep, the locus ceruleus is turned off, allowing for the weakening of synapses and the integration of new information into long-term memory structures. The release of neurotransmitters like dopamine, norepinephrine, and galanin during REM sleep further supports the consolidation of memories and rapid learning. Overall, sleep, particularly slow wave sleep and REM sleep, plays a crucial role in enhancing learning and memory processes.\n"
          ]
        }
      ],
      "source": [
        "print(response)"
      ]
    },
    {
      "cell_type": "code",
      "execution_count": 64,
      "metadata": {},
      "outputs": [],
      "source": [
        "from llama_index.prompts import PromptTemplate\n",
        "\n",
        "text_qa_template_str = (\n",
        "    \"You are an Andrew huberman assistant that can read Andrew Huberman podcast notes.\\n\"\n",
        "    \"Always answer the query only using the provided context information, \"\n",
        "    \"and not prior knowledge.\\n\"\n",
        "    \"Some rules to follow:\\n\"\n",
        "    \"1. Never directly reference the given context in your answer.\\n\"\n",
        "    \"2. Avoid statements like 'Based on the context, ...' or \"\n",
        "    \"'The context information ...' or anything along \"\n",
        "    \"those lines.\"\n",
        "    \"Context information is below.\\n\"\n",
        "    \"---------------------\\n\"\n",
        "    \"{context_str}\\n\"\n",
        "    \"---------------------\\n\"\n",
        "    \"Answer the question: {query_str}\\n\"\n",
        ")\n",
        "\n",
        "text_qa_template = PromptTemplate(text_qa_template_str)"
      ]
    },
    {
      "cell_type": "code",
      "execution_count": 65,
      "metadata": {},
      "outputs": [],
      "source": [
        "response = index.as_query_engine(\n",
        "    text_qa_template = text_qa_template \n",
        ").query(\"How does sleep enhance learning memory?\")"
      ]
    },
    {
      "cell_type": "code",
      "execution_count": 69,
      "metadata": {},
      "outputs": [
        {
          "data": {
            "text/plain": [
              "[NodeWithScore(node=TextNode(id_='6403748f-e029-4405-87c3-2f6ca792e8e7', embedding=None, metadata={'file_path': 'AndrewHuberman/sleep/05_Understanding_and_Using_Dreams_to_Learn_and_to_Forget_Huberman_Lab_Podcast_5.txt', 'file_name': '05_Understanding_and_Using_Dreams_to_Learn_and_to_Forget_Huberman_Lab_Podcast_5.txt', 'file_type': 'text/plain', 'file_size': 75844, 'creation_date': '2023-11-22', 'last_modified_date': '2023-10-04', 'last_accessed_date': '2023-11-22'}, excluded_embed_metadata_keys=['file_name', 'file_type', 'file_size', 'creation_date', 'last_modified_date', 'last_accessed_date'], excluded_llm_metadata_keys=['file_name', 'file_type', 'file_size', 'creation_date', 'last_modified_date', 'last_accessed_date'], relationships={<NodeRelationship.SOURCE: '1'>: RelatedNodeInfo(node_id='39ab4dbe-f58f-4904-b565-dc03fc312fbd', node_type=<ObjectType.DOCUMENT: '4'>, metadata={'file_path': 'AndrewHuberman/sleep/05_Understanding_and_Using_Dreams_to_Learn_and_to_Forget_Huberman_Lab_Podcast_5.txt', 'file_name': '05_Understanding_and_Using_Dreams_to_Learn_and_to_Forget_Huberman_Lab_Podcast_5.txt', 'file_type': 'text/plain', 'file_size': 75844, 'creation_date': '2023-11-22', 'last_modified_date': '2023-10-04', 'last_accessed_date': '2023-11-22'}, hash='774ce239537b000b0593de61ad3ad49b2dfcfcdb3fd1ec4b9e7c66f75f5255cd'), <NodeRelationship.PREVIOUS: '2'>: RelatedNodeInfo(node_id='722b13d8-68de-4a81-a00f-a2a3b3fa4d04', node_type=<ObjectType.TEXT: '1'>, metadata={'file_path': 'AndrewHuberman/sleep/05_Understanding_and_Using_Dreams_to_Learn_and_to_Forget_Huberman_Lab_Podcast_5.txt', 'file_name': '05_Understanding_and_Using_Dreams_to_Learn_and_to_Forget_Huberman_Lab_Podcast_5.txt', 'file_type': 'text/plain', 'file_size': 75844, 'creation_date': '2023-11-22', 'last_modified_date': '2023-10-04', 'last_accessed_date': '2023-11-22'}, hash='bb95343ef4cb24bac0ebea6a0eacb2c2472930d0f10278669781ad04713f53b8'), <NodeRelationship.NEXT: '3'>: RelatedNodeInfo(node_id='400273f0-7ff8-4e5a-a340-e3c0b1875e36', node_type=<ObjectType.TEXT: '1'>, metadata={'file_path': 'AndrewHuberman/sleep/05_Understanding_and_Using_Dreams_to_Learn_and_to_Forget_Huberman_Lab_Podcast_5.txt', 'file_name': '05_Understanding_and_Using_Dreams_to_Learn_and_to_Forget_Huberman_Lab_Podcast_5.txt', 'file_type': 'text/plain', 'file_size': 75844, 'creation_date': '2023-11-22', 'last_modified_date': '2023-10-04', 'last_accessed_date': '2023-11-22'}, hash='dafdd3d73265d7cd79e4f8136001b35c2b85eb23762c0fdb5c490ddcf6211ed1')}, hash='d3e33a6ffabf565d400a0e7c869ac6d17b15fabddd074b3f87d404b125dd118d', text=\"So if people are tested and in terms of their performance on these types of exams and they're deprived of slow wave sleep, they tend to perform very poorly. So we can think of slow wave sleep as important for motor learning, motor skill learning and for the learning of specific details about specific events. And this turns out to be fundamentally important because now we know that slow wave sleep is primarily in the early part of the night, and motor learning is occurring primarily early in the night, and detailed learning is occurring early in the night. Now for those of you that are waking up after only three, four hours of sleep, this might be informative. This might tell you a little something about what you are able to learn and not able to learn if that were to be the only sleep that you get. Although, hopefully that's not the only sleep that you get. But we're going to dive deep into how it is that one can maximize motor learning in order to extract say, more detail information about coordinated movements and how to make them faster or slower. So that might be important for certain sports. It might be almost certainly important for certain sports. It's gonna be important for any kind of coordinated movement, like say learning to play the piano, or for instance, how to learn synchronized movements with somebody else. So maybe I mentioned the example of dance earlier. Like me a few years ago, I set out to learn tango because I have some Argentine relatives and I was a Bismal. I need to return to that at some point. I was just a Bismal. And one of the worst things about being a bismal at learning dance is that, that somebody else has to suffer the consequences also. So I don't know maybe in the month on neuroplasticity, I'll explore that again as a self experimentation. But, the key things to know are slow wave sleep is involved in motor learning and detailed learning. There's no acetylcholine around at that time, has these big amplitude activity sweeping throughout the brain and that there's the release of these neuromodulators, norepinephrine and serotonin. And again, that's all happening early in the night. So athletes, people that are concerned about performance, if you happen to wake up after just a couple hours of, you know, three, four hours of sleep because you're excited about a competition the next day, presumably if you've already trained the skills that you need for the event you should be fine to engage in that particular activity. Now it's always going to be better to get a full night's sleep. And that, you know, a full night's sleep for you is six hours then it's always gonna be better to get more sleep than it is to get less. However, I think some people get a little bit overly concerned that if they didn't get their full night's sleep before some sort of physical event that their performance is going to plummet. Presumably, if you've already learned what you need to do, and it's stored in your neural circuits and you know how to make those coordinated movements, what the literature on slow wave sleep suggest is that you would be replenished. That the motor learning and the recovery from exercise is going to happen early in the night. Okay. So we'll just pause there, and kind of shelve that for a moment and then we're gonna come back to it. But I wanna talk about REM sleep, or rapid eye movement sleep. REM sleep and rapid eye movement sleep, as I mentioned before, occurs throughout the night, but you're gonna have more of it. A larger percentage of these 90 minute sleep cycles is going to be comprised of REM sleep as you get toward morning. REM sleep is fascinating. It was discovered in '50s when a sleep laboratory in Chicago, the researchers observed that people's eyes were moving under their eyelids. Now, something very important that we're going to address when we talk about trauma later is that, the eye movements are not just side to side they're very erratic in all different directions. One thing that I don't think I've never heard anyone really talk about publicly is, why eye movements during sleep, right? Eyes are closed. And sometimes people's eyelids will be a little bit open and their eyes are darting around, especially in little kids. I don't suggest you do this. I'm not even sure it's ethical. But, it has been done where you, you know, pull back the eyelids of a kid while they're sleeping and their eyes are kind of darting all over the place.\", start_char_idx=None, end_char_idx=None, text_template='{metadata_str}\\n\\n{content}', metadata_template='{key}: {value}', metadata_seperator='\\n'), score=0.8640604173201928), NodeWithScore(node=TextNode(id_='2064976b-8767-4e75-b0ff-fdd2cb640bc0', embedding=None, metadata={'file_path': 'AndrewHuberman/sleep/115_Dr_Gina_Poe_Use_Sleep_to_Enhance_Learning_Memory_&_Emotional_State_Huberman_Lab_Podcast.txt', 'file_name': '115_Dr_Gina_Poe_Use_Sleep_to_Enhance_Learning_Memory_&_Emotional_State_Huberman_Lab_Podcast.txt', 'file_type': 'text/plain', 'file_size': 126154, 'creation_date': '2023-11-22', 'last_modified_date': '2023-10-04', 'last_accessed_date': '2023-11-22'}, excluded_embed_metadata_keys=['file_name', 'file_type', 'file_size', 'creation_date', 'last_modified_date', 'last_accessed_date'], excluded_llm_metadata_keys=['file_name', 'file_type', 'file_size', 'creation_date', 'last_modified_date', 'last_accessed_date'], relationships={<NodeRelationship.SOURCE: '1'>: RelatedNodeInfo(node_id='1d824e0c-271e-4a11-9b8f-be03e21a9ac0', node_type=<ObjectType.DOCUMENT: '4'>, metadata={'file_path': 'AndrewHuberman/sleep/115_Dr_Gina_Poe_Use_Sleep_to_Enhance_Learning_Memory_&_Emotional_State_Huberman_Lab_Podcast.txt', 'file_name': '115_Dr_Gina_Poe_Use_Sleep_to_Enhance_Learning_Memory_&_Emotional_State_Huberman_Lab_Podcast.txt', 'file_type': 'text/plain', 'file_size': 126154, 'creation_date': '2023-11-22', 'last_modified_date': '2023-10-04', 'last_accessed_date': '2023-11-22'}, hash='032d1fea3ebcada0c43055b6705f935a528abd277783fcbf979d369d26920738'), <NodeRelationship.PREVIOUS: '2'>: RelatedNodeInfo(node_id='c5e56b16-b819-4bcf-b86c-56784f295c3f', node_type=<ObjectType.TEXT: '1'>, metadata={'file_path': 'AndrewHuberman/sleep/115_Dr_Gina_Poe_Use_Sleep_to_Enhance_Learning_Memory_&_Emotional_State_Huberman_Lab_Podcast.txt', 'file_name': '115_Dr_Gina_Poe_Use_Sleep_to_Enhance_Learning_Memory_&_Emotional_State_Huberman_Lab_Podcast.txt', 'file_type': 'text/plain', 'file_size': 126154, 'creation_date': '2023-11-22', 'last_modified_date': '2023-10-04', 'last_accessed_date': '2023-11-22'}, hash='6cda16714e2430a0c4f8b39c3039cb6d9e219f804906e1e551afba6c62db58ad'), <NodeRelationship.NEXT: '3'>: RelatedNodeInfo(node_id='b020c012-7b2d-4572-a9d6-0dcaf7d451ea', node_type=<ObjectType.TEXT: '1'>, metadata={'file_path': 'AndrewHuberman/sleep/115_Dr_Gina_Poe_Use_Sleep_to_Enhance_Learning_Memory_&_Emotional_State_Huberman_Lab_Podcast.txt', 'file_name': '115_Dr_Gina_Poe_Use_Sleep_to_Enhance_Learning_Memory_&_Emotional_State_Huberman_Lab_Podcast.txt', 'file_type': 'text/plain', 'file_size': 126154, 'creation_date': '2023-11-22', 'last_modified_date': '2023-10-04', 'last_accessed_date': '2023-11-22'}, hash='6c77e4f65e7b285cca2147628b3d4a34dd636621b18ab75b34ec8a30237f7193')}, hash='aeab27835464c6021ab2991ee698d7f7cfd63301ff93db3ef257558b5079b1aa', text=\"You write that thumb drive to the cortex to the long-term memory structures and you need to refresh that thumb drive and that’s what happens during REM sleep when the locus cerealis is off, because whenever it’s on and neurodrenaline is there, it helps us to put things together. It helps us to learn and strengthen synapses, but it does not allow us to actually weaken synapses that are also a really important part for Life. Important part of lifelong learning, um yeah, there's so much more. I could say about that. Yeah Lucas Aurelia sounds fascinating, so it’s connected to the basal forebrain cholinergic system, um the neurons in Locust ceruleus. If I'm not mistaken, release norepinephrine, perhaps epinephrine as well uh um. Well, no, the brain's version of epinephrine is norepinephrine um. The other thing it also uh the precursor to norepinephrine is dopamine, and so the source of dopamine in the hippocampus seems to be the locus cereals and it’s still a mystery, is under what conditions. The Locust rules also releases dopamine, but it’s really important when we're learning something new to also release dopamine or to at least activate the dopaminergic receptors in our hippocampus, so yeah so dopamine norepinephrine and then there's also galanin, which is important for releasing when we're stressed and It helps also without rapid learning. It works in concert with norepinephrine and in doing what it needs to do to strengthen synapses so that we learn really quickly. I I love um that there are multiple molecules involved, because that signals us to a principle, which is that, even if people can't remember all the names um that rarely in biology is something handled by just one. Molecular pathway. That redundancy is the rule yeah, because signaling attention to specific events is so important so that I'm going to use that as a just so story. I always say you know I wasn't consulted at the design phase, but it makes sense to me as to why redundancy would exist in this system absolutely and in fact, when we form hypotheses about the brain, we're always wrong, and the reason why we're always wrong is Because it’s more complicated than we'd like to think and because in our brains, when we're forming hypotheses, it’s we fail to account for all of the factors that are involved. You know the glia, the neuropeptides, the neurotransmitters, the physical structure of synapses, and so when I was going through grad school 35 years ago, uh we, the Dogma, was that every neuron contains one neurotransmitter and releases one neurotransmitter and you had excitatory neurotransmitters and inhibitory neurotransmitters and Neuromodulatory neurotransmitters, but that’s as complicated as got and then we started talking about neuropeptides and people said: oh no, please don't don't complicate it and then we start talking about how neurons contain both neuropeptides and neurotransmitters and maybe more than one neurotransmitter, maybe even hormones too. Even hormones - and oh Lord - you know it’s just so complicated but got ta admit that’s why it works right and every time the brain teaches us something new about itself that we didn't hypothesize. We say. Oh, of course, is that wouldn't work. If the way I hypothesized it with it, you know we actually need redundancy. We need all these systems to work together, so it’s uh daunting sometimes, but it also ensures many many careers in science and Neuroscience in particular So um note that aspiring scientists there's plenty of room uh for Discovery. Do you want me to talk about norepinephrine yeah? Yes, well, what I'd love? What I'd love for you to um tell us about! Is you know what role this lack of norepinephrine released during rapid eye movement? Sleep is thought to achieve, and maybe you could also review some of your work describing conditions under which norepinephrine invades, yeah, rapid eye movements, sleep and other patterns of sleep and how that can be detrimental yeah. So a lot of this is hypothetical, but based on a lot of good evidence that we're sewing together into the schema from which these hypotheses come. So a model schema from which the hypotheses come.\", start_char_idx=None, end_char_idx=None, text_template='{metadata_str}\\n\\n{content}', metadata_template='{key}: {value}', metadata_seperator='\\n'), score=0.8554470538260118)]"
            ]
          },
          "metadata": {},
          "output_type": "display_data"
        }
      ],
      "source": [
        "display(response.source_nodes)"
      ]
    },
    {
      "cell_type": "markdown",
      "metadata": {},
      "source": [
        "### Metadata"
      ]
    },
    {
      "cell_type": "code",
      "execution_count": 72,
      "metadata": {},
      "outputs": [],
      "source": [
        "from llama_index import SimpleDirectoryReader\n",
        "andrew_gina_docs = SimpleDirectoryReader(input_files=[\"./AndrewHuberman/sleep/115_Dr_Gina_Poe_Use_Sleep_to_Enhance_Learning_Memory_&_Emotional_State_Huberman_Lab_Podcast.txt\"]).load_data()"
      ]
    },
    {
      "cell_type": "code",
      "execution_count": 75,
      "metadata": {},
      "outputs": [
        {
          "name": "stdout",
          "output_type": "stream",
          "text": [
            "Object ` llama_index.node_parser` not found.\n"
          ]
        }
      ],
      "source": []
    },
    {
      "cell_type": "code",
      "execution_count": 79,
      "metadata": {},
      "outputs": [
        {
          "ename": "SyntaxError",
          "evalue": "invalid syntax (403154468.py, line 10)",
          "output_type": "error",
          "traceback": [
            "\u001b[0;36m  Cell \u001b[0;32mIn[79], line 10\u001b[0;36m\u001b[0m\n\u001b[0;31m    from llama_index import .\u001b[0m\n\u001b[0m                            ^\u001b[0m\n\u001b[0;31mSyntaxError\u001b[0m\u001b[0;31m:\u001b[0m invalid syntax\n"
          ]
        }
      ],
      "source": [
        "from llama_index.extractors import (\n",
        "    SummaryExtractor,\n",
        "    QuestionsAnsweredExtractor,\n",
        "    TitleExtractor,\n",
        "    KeywordExtractor,\n",
        "    EntityExtractor,\n",
        "    BaseExtractor,\n",
        ")\n",
        "from llama_index.node_parser import SimpleNodeParser\n",
        "from llama_index import .\n",
        "# from llama_index.schema import MetadataExtractor\n",
        "from llama_index.text_splitter import TokenTextSplitter\n",
        "from llama_index.node_parser import SimpleNodeParser\n",
        "\n",
        "text_splitter = TokenTextSplitter(separator=\" \", chunk_size=512, chunk_overlap=20)\n",
        "\n",
        "metadata_extractor = MetadataExtractor(\n",
        "    extractors=[\n",
        "        TitleExtractor(nodes=5),\n",
        "        QuestionsAnsweredExtractor(questions=3),\n",
        "    ],\n",
        ")\n",
        "\n",
        "node_parser = SimpleNodeParser(\n",
        "    text_splitter = text_splitter,\n",
        "    metadata_extractor=metadata_extractor\n",
        ")"
      ]
    },
    {
      "cell_type": "code",
      "execution_count": 84,
      "metadata": {},
      "outputs": [
        {
          "name": "stderr",
          "output_type": "stream",
          "text": [
            "huggingface/tokenizers: The current process just got forked, after parallelism has already been used. Disabling parallelism to avoid deadlocks...\n",
            "To disable this warning, you can either:\n",
            "\t- Avoid using `tokenizers` before the fork if possible\n",
            "\t- Explicitly set the environment variable TOKENIZERS_PARALLELISM=(true | false)\n"
          ]
        },
        {
          "name": "stdout",
          "output_type": "stream",
          "text": [
            "Defaulting to user installation because normal site-packages is not writeable\n",
            "Requirement already satisfied: llama-index in /Users/ravirajsavaliya/Library/Python/3.9/lib/python/site-packages (0.9.6.post2)\n",
            "Requirement already satisfied: nest-asyncio<2.0.0,>=1.5.8 in /Users/ravirajsavaliya/Library/Python/3.9/lib/python/site-packages (from llama-index) (1.5.8)\n",
            "Requirement already satisfied: fsspec>=2023.5.0 in /Users/ravirajsavaliya/Library/Python/3.9/lib/python/site-packages (from llama-index) (2023.10.0)\n",
            "Requirement already satisfied: pandas in /Users/ravirajsavaliya/Library/Python/3.9/lib/python/site-packages (from llama-index) (2.1.3)\n",
            "Requirement already satisfied: beautifulsoup4<5.0.0,>=4.12.2 in /Users/ravirajsavaliya/Library/Python/3.9/lib/python/site-packages (from llama-index) (4.12.2)\n",
            "Requirement already satisfied: tiktoken>=0.3.3 in /Users/ravirajsavaliya/Library/Python/3.9/lib/python/site-packages (from llama-index) (0.5.1)\n",
            "Requirement already satisfied: urllib3<2 in /Users/ravirajsavaliya/Library/Python/3.9/lib/python/site-packages (from llama-index) (1.26.18)\n",
            "Requirement already satisfied: SQLAlchemy[asyncio]>=1.4.49 in /Users/ravirajsavaliya/Library/Python/3.9/lib/python/site-packages (from llama-index) (2.0.23)\n",
            "Requirement already satisfied: aiohttp<4.0.0,>=3.8.6 in /Users/ravirajsavaliya/Library/Python/3.9/lib/python/site-packages (from llama-index) (3.9.0)\n",
            "Requirement already satisfied: dataclasses-json in /Users/ravirajsavaliya/Library/Python/3.9/lib/python/site-packages (from llama-index) (0.6.2)\n",
            "Requirement already satisfied: httpx in /Users/ravirajsavaliya/Library/Python/3.9/lib/python/site-packages (from llama-index) (0.25.1)\n",
            "Requirement already satisfied: numpy in /Users/ravirajsavaliya/Library/Python/3.9/lib/python/site-packages (from llama-index) (1.26.2)\n",
            "Requirement already satisfied: aiostream<0.6.0,>=0.5.2 in /Users/ravirajsavaliya/Library/Python/3.9/lib/python/site-packages (from llama-index) (0.5.2)\n",
            "Requirement already satisfied: typing-inspect>=0.8.0 in /Users/ravirajsavaliya/Library/Python/3.9/lib/python/site-packages (from llama-index) (0.9.0)\n",
            "Requirement already satisfied: nltk<4.0.0,>=3.8.1 in /Users/ravirajsavaliya/Library/Python/3.9/lib/python/site-packages (from llama-index) (3.8.1)\n",
            "Requirement already satisfied: typing-extensions>=4.5.0 in /Users/ravirajsavaliya/Library/Python/3.9/lib/python/site-packages (from llama-index) (4.8.0)\n",
            "Requirement already satisfied: tenacity<9.0.0,>=8.2.0 in /Users/ravirajsavaliya/Library/Python/3.9/lib/python/site-packages (from llama-index) (8.2.3)\n",
            "Requirement already satisfied: openai>=1.1.0 in /Users/ravirajsavaliya/Library/Python/3.9/lib/python/site-packages (from llama-index) (1.3.5)\n",
            "Requirement already satisfied: deprecated>=1.2.9.3 in /Users/ravirajsavaliya/Library/Python/3.9/lib/python/site-packages (from llama-index) (1.2.14)\n",
            "Requirement already satisfied: attrs>=17.3.0 in /Users/ravirajsavaliya/Library/Python/3.9/lib/python/site-packages (from aiohttp<4.0.0,>=3.8.6->llama-index) (23.1.0)\n",
            "Requirement already satisfied: frozenlist>=1.1.1 in /Users/ravirajsavaliya/Library/Python/3.9/lib/python/site-packages (from aiohttp<4.0.0,>=3.8.6->llama-index) (1.4.0)\n",
            "Requirement already satisfied: async-timeout<5.0,>=4.0 in /Users/ravirajsavaliya/Library/Python/3.9/lib/python/site-packages (from aiohttp<4.0.0,>=3.8.6->llama-index) (4.0.3)\n",
            "Requirement already satisfied: yarl<2.0,>=1.0 in /Users/ravirajsavaliya/Library/Python/3.9/lib/python/site-packages (from aiohttp<4.0.0,>=3.8.6->llama-index) (1.9.3)\n",
            "Requirement already satisfied: aiosignal>=1.1.2 in /Users/ravirajsavaliya/Library/Python/3.9/lib/python/site-packages (from aiohttp<4.0.0,>=3.8.6->llama-index) (1.3.1)\n",
            "Requirement already satisfied: multidict<7.0,>=4.5 in /Users/ravirajsavaliya/Library/Python/3.9/lib/python/site-packages (from aiohttp<4.0.0,>=3.8.6->llama-index) (6.0.4)\n",
            "Requirement already satisfied: soupsieve>1.2 in /Users/ravirajsavaliya/Library/Python/3.9/lib/python/site-packages (from beautifulsoup4<5.0.0,>=4.12.2->llama-index) (2.5)\n",
            "Requirement already satisfied: wrapt<2,>=1.10 in /Users/ravirajsavaliya/Library/Python/3.9/lib/python/site-packages (from deprecated>=1.2.9.3->llama-index) (1.16.0)\n",
            "Requirement already satisfied: tqdm in /Users/ravirajsavaliya/Library/Python/3.9/lib/python/site-packages (from nltk<4.0.0,>=3.8.1->llama-index) (4.66.1)\n",
            "Requirement already satisfied: joblib in /Users/ravirajsavaliya/Library/Python/3.9/lib/python/site-packages (from nltk<4.0.0,>=3.8.1->llama-index) (1.3.2)\n",
            "Requirement already satisfied: click in /Users/ravirajsavaliya/Library/Python/3.9/lib/python/site-packages (from nltk<4.0.0,>=3.8.1->llama-index) (8.1.7)\n",
            "Requirement already satisfied: regex>=2021.8.3 in /Users/ravirajsavaliya/Library/Python/3.9/lib/python/site-packages (from nltk<4.0.0,>=3.8.1->llama-index) (2023.10.3)\n",
            "Requirement already satisfied: distro<2,>=1.7.0 in /Users/ravirajsavaliya/Library/Python/3.9/lib/python/site-packages (from openai>=1.1.0->llama-index) (1.8.0)\n",
            "Requirement already satisfied: anyio<4,>=3.5.0 in /Users/ravirajsavaliya/Library/Python/3.9/lib/python/site-packages (from openai>=1.1.0->llama-index) (3.7.1)\n",
            "Requirement already satisfied: pydantic<3,>=1.9.0 in /Users/ravirajsavaliya/Library/Python/3.9/lib/python/site-packages (from openai>=1.1.0->llama-index) (2.5.2)\n",
            "Requirement already satisfied: exceptiongroup in /Users/ravirajsavaliya/Library/Python/3.9/lib/python/site-packages (from anyio<4,>=3.5.0->openai>=1.1.0->llama-index) (1.2.0)\n",
            "Requirement already satisfied: idna>=2.8 in /Users/ravirajsavaliya/Library/Python/3.9/lib/python/site-packages (from anyio<4,>=3.5.0->openai>=1.1.0->llama-index) (3.4)\n",
            "Requirement already satisfied: sniffio>=1.1 in /Users/ravirajsavaliya/Library/Python/3.9/lib/python/site-packages (from anyio<4,>=3.5.0->openai>=1.1.0->llama-index) (1.3.0)\n",
            "Requirement already satisfied: httpcore in /Users/ravirajsavaliya/Library/Python/3.9/lib/python/site-packages (from httpx->llama-index) (1.0.2)\n",
            "Requirement already satisfied: certifi in /Users/ravirajsavaliya/Library/Python/3.9/lib/python/site-packages (from httpx->llama-index) (2023.11.17)\n",
            "Requirement already satisfied: pydantic-core==2.14.5 in /Users/ravirajsavaliya/Library/Python/3.9/lib/python/site-packages (from pydantic<3,>=1.9.0->openai>=1.1.0->llama-index) (2.14.5)\n",
            "Requirement already satisfied: annotated-types>=0.4.0 in /Users/ravirajsavaliya/Library/Python/3.9/lib/python/site-packages (from pydantic<3,>=1.9.0->openai>=1.1.0->llama-index) (0.6.0)\n",
            "Requirement already satisfied: greenlet!=0.4.17 in /Users/ravirajsavaliya/Library/Python/3.9/lib/python/site-packages (from SQLAlchemy[asyncio]>=1.4.49->llama-index) (3.0.1)\n",
            "Requirement already satisfied: requests>=2.26.0 in /Users/ravirajsavaliya/Library/Python/3.9/lib/python/site-packages (from tiktoken>=0.3.3->llama-index) (2.31.0)\n",
            "Requirement already satisfied: charset-normalizer<4,>=2 in /Users/ravirajsavaliya/Library/Python/3.9/lib/python/site-packages (from requests>=2.26.0->tiktoken>=0.3.3->llama-index) (3.3.2)\n",
            "Requirement already satisfied: mypy-extensions>=0.3.0 in /Users/ravirajsavaliya/Library/Python/3.9/lib/python/site-packages (from typing-inspect>=0.8.0->llama-index) (1.0.0)\n",
            "Requirement already satisfied: marshmallow<4.0.0,>=3.18.0 in /Users/ravirajsavaliya/Library/Python/3.9/lib/python/site-packages (from dataclasses-json->llama-index) (3.20.1)\n",
            "Requirement already satisfied: packaging>=17.0 in /Users/ravirajsavaliya/Library/Python/3.9/lib/python/site-packages (from marshmallow<4.0.0,>=3.18.0->dataclasses-json->llama-index) (23.2)\n",
            "Requirement already satisfied: h11<0.15,>=0.13 in /Users/ravirajsavaliya/Library/Python/3.9/lib/python/site-packages (from httpcore->httpx->llama-index) (0.14.0)\n",
            "Requirement already satisfied: tzdata>=2022.1 in /Users/ravirajsavaliya/Library/Python/3.9/lib/python/site-packages (from pandas->llama-index) (2023.3)\n",
            "Requirement already satisfied: pytz>=2020.1 in /Users/ravirajsavaliya/Library/Python/3.9/lib/python/site-packages (from pandas->llama-index) (2023.3.post1)\n",
            "Requirement already satisfied: python-dateutil>=2.8.2 in /Users/ravirajsavaliya/Library/Python/3.9/lib/python/site-packages (from pandas->llama-index) (2.8.2)\n",
            "Requirement already satisfied: six>=1.5 in /Library/Developer/CommandLineTools/Library/Frameworks/Python3.framework/Versions/3.9/lib/python3.9/site-packages (from python-dateutil>=2.8.2->pandas->llama-index) (1.15.0)\n",
            "\u001b[33mWARNING: You are using pip version 21.2.4; however, version 23.3.1 is available.\n",
            "You should consider upgrading via the '/Library/Developer/CommandLineTools/usr/bin/python3 -m pip install --upgrade pip' command.\u001b[0m\n",
            "Note: you may need to restart the kernel to use updated packages.\n"
          ]
        }
      ],
      "source": [
        "pip install llama-index"
      ]
    },
    {
      "cell_type": "code",
      "execution_count": 85,
      "metadata": {},
      "outputs": [
        {
          "ename": "ModuleNotFoundError",
          "evalue": "No module named 'llama_index.node_parser.extractors'",
          "output_type": "error",
          "traceback": [
            "\u001b[0;31m---------------------------------------------------------------------------\u001b[0m",
            "\u001b[0;31mModuleNotFoundError\u001b[0m                       Traceback (most recent call last)",
            "\u001b[1;32m/Users/ravirajsavaliya/Desktop/Llma_Index/Llama_Index copy.ipynb Cell 39\u001b[0m line \u001b[0;36m1\n\u001b[0;32m----> <a href='vscode-notebook-cell:/Users/ravirajsavaliya/Desktop/Llma_Index/Llama_Index%20copy.ipynb#X66sZmlsZQ%3D%3D?line=0'>1</a>\u001b[0m \u001b[39mfrom\u001b[39;00m \u001b[39mllama_index\u001b[39;00m\u001b[39m.\u001b[39;00m\u001b[39mnode_parser\u001b[39;00m\u001b[39m.\u001b[39;00m\u001b[39mextractors\u001b[39;00m \u001b[39mimport\u001b[39;00m MetadataExtractor\n",
            "\u001b[0;31mModuleNotFoundError\u001b[0m: No module named 'llama_index.node_parser.extractors'"
          ]
        }
      ],
      "source": [
        "from llama_index.node_parser.extractors import MetadataExtractor\n"
      ]
    }
  ],
  "metadata": {
    "colab": {
      "provenance": []
    },
    "kernelspec": {
      "display_name": "Python 3",
      "name": "python3"
    },
    "language_info": {
      "codemirror_mode": {
        "name": "ipython",
        "version": 3
      },
      "file_extension": ".py",
      "mimetype": "text/x-python",
      "name": "python",
      "nbconvert_exporter": "python",
      "pygments_lexer": "ipython3",
      "version": "3.9.6"
    },
    "widgets": {
      "application/vnd.jupyter.widget-state+json": {
        "0312df16082d44379b6f44a7dfae1329": {
          "model_module": "@jupyter-widgets/controls",
          "model_module_version": "1.5.0",
          "model_name": "DescriptionStyleModel",
          "state": {
            "_model_module": "@jupyter-widgets/controls",
            "_model_module_version": "1.5.0",
            "_model_name": "DescriptionStyleModel",
            "_view_count": null,
            "_view_module": "@jupyter-widgets/base",
            "_view_module_version": "1.2.0",
            "_view_name": "StyleView",
            "description_width": ""
          }
        },
        "040032db3fce423989b5945fc8ba517a": {
          "model_module": "@jupyter-widgets/base",
          "model_module_version": "1.2.0",
          "model_name": "LayoutModel",
          "state": {
            "_model_module": "@jupyter-widgets/base",
            "_model_module_version": "1.2.0",
            "_model_name": "LayoutModel",
            "_view_count": null,
            "_view_module": "@jupyter-widgets/base",
            "_view_module_version": "1.2.0",
            "_view_name": "LayoutView",
            "align_content": null,
            "align_items": null,
            "align_self": null,
            "border": null,
            "bottom": null,
            "display": null,
            "flex": null,
            "flex_flow": null,
            "grid_area": null,
            "grid_auto_columns": null,
            "grid_auto_flow": null,
            "grid_auto_rows": null,
            "grid_column": null,
            "grid_gap": null,
            "grid_row": null,
            "grid_template_areas": null,
            "grid_template_columns": null,
            "grid_template_rows": null,
            "height": null,
            "justify_content": null,
            "justify_items": null,
            "left": null,
            "margin": null,
            "max_height": null,
            "max_width": null,
            "min_height": null,
            "min_width": null,
            "object_fit": null,
            "object_position": null,
            "order": null,
            "overflow": null,
            "overflow_x": null,
            "overflow_y": null,
            "padding": null,
            "right": null,
            "top": null,
            "visibility": null,
            "width": null
          }
        },
        "07142c573eae40bda941984c6d20fab9": {
          "model_module": "@jupyter-widgets/controls",
          "model_module_version": "1.5.0",
          "model_name": "HTMLModel",
          "state": {
            "_dom_classes": [],
            "_model_module": "@jupyter-widgets/controls",
            "_model_module_version": "1.5.0",
            "_model_name": "HTMLModel",
            "_view_count": null,
            "_view_module": "@jupyter-widgets/controls",
            "_view_module_version": "1.5.0",
            "_view_name": "HTMLView",
            "description": "",
            "description_tooltip": null,
            "layout": "IPY_MODEL_96e42b47dd8348e1a1564ff7b79420bd",
            "placeholder": "​",
            "style": "IPY_MODEL_a0af50b5525744379cd6bd468e1ebb3f",
            "value": "pytorch_model-00002-of-00002.bin: 100%"
          }
        },
        "0b52051ce4774abbb3f6f85afcc3f22d": {
          "model_module": "@jupyter-widgets/controls",
          "model_module_version": "1.5.0",
          "model_name": "DescriptionStyleModel",
          "state": {
            "_model_module": "@jupyter-widgets/controls",
            "_model_module_version": "1.5.0",
            "_model_name": "DescriptionStyleModel",
            "_view_count": null,
            "_view_module": "@jupyter-widgets/base",
            "_view_module_version": "1.2.0",
            "_view_name": "StyleView",
            "description_width": ""
          }
        },
        "103247df0356423496015ff0046a1b2d": {
          "model_module": "@jupyter-widgets/controls",
          "model_module_version": "1.5.0",
          "model_name": "HTMLModel",
          "state": {
            "_dom_classes": [],
            "_model_module": "@jupyter-widgets/controls",
            "_model_module_version": "1.5.0",
            "_model_name": "HTMLModel",
            "_view_count": null,
            "_view_module": "@jupyter-widgets/controls",
            "_view_module_version": "1.5.0",
            "_view_name": "HTMLView",
            "description": "",
            "description_tooltip": null,
            "layout": "IPY_MODEL_c36088e770f24311b4c5e4391816c5af",
            "placeholder": "​",
            "style": "IPY_MODEL_107aab10ded94a39bc9b93f360a409b5",
            "value": "pytorch_model-00001-of-00002.bin: 100%"
          }
        },
        "107aab10ded94a39bc9b93f360a409b5": {
          "model_module": "@jupyter-widgets/controls",
          "model_module_version": "1.5.0",
          "model_name": "DescriptionStyleModel",
          "state": {
            "_model_module": "@jupyter-widgets/controls",
            "_model_module_version": "1.5.0",
            "_model_name": "DescriptionStyleModel",
            "_view_count": null,
            "_view_module": "@jupyter-widgets/base",
            "_view_module_version": "1.2.0",
            "_view_name": "StyleView",
            "description_width": ""
          }
        },
        "15dc60e7bcad487685a85a1e3225fc4b": {
          "model_module": "@jupyter-widgets/controls",
          "model_module_version": "1.5.0",
          "model_name": "HTMLModel",
          "state": {
            "_dom_classes": [],
            "_model_module": "@jupyter-widgets/controls",
            "_model_module_version": "1.5.0",
            "_model_name": "HTMLModel",
            "_view_count": null,
            "_view_module": "@jupyter-widgets/controls",
            "_view_module_version": "1.5.0",
            "_view_name": "HTMLView",
            "description": "",
            "description_tooltip": null,
            "layout": "IPY_MODEL_d7b480e5996f49e7a8f1bf884df27348",
            "placeholder": "​",
            "style": "IPY_MODEL_69bbb792560d45b5aac823197bf0aa93",
            "value": "pytorch_model.bin.index.json: 100%"
          }
        },
        "1633ee81d8b14e89978d991d6b17b5d3": {
          "model_module": "@jupyter-widgets/controls",
          "model_module_version": "1.5.0",
          "model_name": "FloatProgressModel",
          "state": {
            "_dom_classes": [],
            "_model_module": "@jupyter-widgets/controls",
            "_model_module_version": "1.5.0",
            "_model_name": "FloatProgressModel",
            "_view_count": null,
            "_view_module": "@jupyter-widgets/controls",
            "_view_module_version": "1.5.0",
            "_view_name": "ProgressView",
            "bar_style": "success",
            "description": "",
            "description_tooltip": null,
            "layout": "IPY_MODEL_1a4be586614a4de88e57de65f59f7116",
            "max": 9943028044,
            "min": 0,
            "orientation": "horizontal",
            "style": "IPY_MODEL_6057d3c101924a3cbf9e0961a32d93a0",
            "value": 9943028044
          }
        },
        "1a4be586614a4de88e57de65f59f7116": {
          "model_module": "@jupyter-widgets/base",
          "model_module_version": "1.2.0",
          "model_name": "LayoutModel",
          "state": {
            "_model_module": "@jupyter-widgets/base",
            "_model_module_version": "1.2.0",
            "_model_name": "LayoutModel",
            "_view_count": null,
            "_view_module": "@jupyter-widgets/base",
            "_view_module_version": "1.2.0",
            "_view_name": "LayoutView",
            "align_content": null,
            "align_items": null,
            "align_self": null,
            "border": null,
            "bottom": null,
            "display": null,
            "flex": null,
            "flex_flow": null,
            "grid_area": null,
            "grid_auto_columns": null,
            "grid_auto_flow": null,
            "grid_auto_rows": null,
            "grid_column": null,
            "grid_gap": null,
            "grid_row": null,
            "grid_template_areas": null,
            "grid_template_columns": null,
            "grid_template_rows": null,
            "height": null,
            "justify_content": null,
            "justify_items": null,
            "left": null,
            "margin": null,
            "max_height": null,
            "max_width": null,
            "min_height": null,
            "min_width": null,
            "object_fit": null,
            "object_position": null,
            "order": null,
            "overflow": null,
            "overflow_x": null,
            "overflow_y": null,
            "padding": null,
            "right": null,
            "top": null,
            "visibility": null,
            "width": null
          }
        },
        "27c039bda29d41d9aa38e5d7f4f69be8": {
          "model_module": "@jupyter-widgets/base",
          "model_module_version": "1.2.0",
          "model_name": "LayoutModel",
          "state": {
            "_model_module": "@jupyter-widgets/base",
            "_model_module_version": "1.2.0",
            "_model_name": "LayoutModel",
            "_view_count": null,
            "_view_module": "@jupyter-widgets/base",
            "_view_module_version": "1.2.0",
            "_view_name": "LayoutView",
            "align_content": null,
            "align_items": null,
            "align_self": null,
            "border": null,
            "bottom": null,
            "display": null,
            "flex": null,
            "flex_flow": null,
            "grid_area": null,
            "grid_auto_columns": null,
            "grid_auto_flow": null,
            "grid_auto_rows": null,
            "grid_column": null,
            "grid_gap": null,
            "grid_row": null,
            "grid_template_areas": null,
            "grid_template_columns": null,
            "grid_template_rows": null,
            "height": null,
            "justify_content": null,
            "justify_items": null,
            "left": null,
            "margin": null,
            "max_height": null,
            "max_width": null,
            "min_height": null,
            "min_width": null,
            "object_fit": null,
            "object_position": null,
            "order": null,
            "overflow": null,
            "overflow_x": null,
            "overflow_y": null,
            "padding": null,
            "right": null,
            "top": null,
            "visibility": null,
            "width": null
          }
        },
        "316787a811094ba09948208680c10ac1": {
          "model_module": "@jupyter-widgets/base",
          "model_module_version": "1.2.0",
          "model_name": "LayoutModel",
          "state": {
            "_model_module": "@jupyter-widgets/base",
            "_model_module_version": "1.2.0",
            "_model_name": "LayoutModel",
            "_view_count": null,
            "_view_module": "@jupyter-widgets/base",
            "_view_module_version": "1.2.0",
            "_view_name": "LayoutView",
            "align_content": null,
            "align_items": null,
            "align_self": null,
            "border": null,
            "bottom": null,
            "display": null,
            "flex": null,
            "flex_flow": null,
            "grid_area": null,
            "grid_auto_columns": null,
            "grid_auto_flow": null,
            "grid_auto_rows": null,
            "grid_column": null,
            "grid_gap": null,
            "grid_row": null,
            "grid_template_areas": null,
            "grid_template_columns": null,
            "grid_template_rows": null,
            "height": null,
            "justify_content": null,
            "justify_items": null,
            "left": null,
            "margin": null,
            "max_height": null,
            "max_width": null,
            "min_height": null,
            "min_width": null,
            "object_fit": null,
            "object_position": null,
            "order": null,
            "overflow": null,
            "overflow_x": null,
            "overflow_y": null,
            "padding": null,
            "right": null,
            "top": null,
            "visibility": null,
            "width": null
          }
        },
        "31aced6b224a4f3aa8a4d4ece3473c89": {
          "model_module": "@jupyter-widgets/controls",
          "model_module_version": "1.5.0",
          "model_name": "DescriptionStyleModel",
          "state": {
            "_model_module": "@jupyter-widgets/controls",
            "_model_module_version": "1.5.0",
            "_model_name": "DescriptionStyleModel",
            "_view_count": null,
            "_view_module": "@jupyter-widgets/base",
            "_view_module_version": "1.2.0",
            "_view_name": "StyleView",
            "description_width": ""
          }
        },
        "31dccab426ce45178db5357223b6a82f": {
          "model_module": "@jupyter-widgets/base",
          "model_module_version": "1.2.0",
          "model_name": "LayoutModel",
          "state": {
            "_model_module": "@jupyter-widgets/base",
            "_model_module_version": "1.2.0",
            "_model_name": "LayoutModel",
            "_view_count": null,
            "_view_module": "@jupyter-widgets/base",
            "_view_module_version": "1.2.0",
            "_view_name": "LayoutView",
            "align_content": null,
            "align_items": null,
            "align_self": null,
            "border": null,
            "bottom": null,
            "display": null,
            "flex": null,
            "flex_flow": null,
            "grid_area": null,
            "grid_auto_columns": null,
            "grid_auto_flow": null,
            "grid_auto_rows": null,
            "grid_column": null,
            "grid_gap": null,
            "grid_row": null,
            "grid_template_areas": null,
            "grid_template_columns": null,
            "grid_template_rows": null,
            "height": null,
            "justify_content": null,
            "justify_items": null,
            "left": null,
            "margin": null,
            "max_height": null,
            "max_width": null,
            "min_height": null,
            "min_width": null,
            "object_fit": null,
            "object_position": null,
            "order": null,
            "overflow": null,
            "overflow_x": null,
            "overflow_y": null,
            "padding": null,
            "right": null,
            "top": null,
            "visibility": null,
            "width": null
          }
        },
        "33b95c3769de4e3d8fe6ac4902b762bd": {
          "model_module": "@jupyter-widgets/controls",
          "model_module_version": "1.5.0",
          "model_name": "DescriptionStyleModel",
          "state": {
            "_model_module": "@jupyter-widgets/controls",
            "_model_module_version": "1.5.0",
            "_model_name": "DescriptionStyleModel",
            "_view_count": null,
            "_view_module": "@jupyter-widgets/base",
            "_view_module_version": "1.2.0",
            "_view_name": "StyleView",
            "description_width": ""
          }
        },
        "3b201361d07946ba8c2d03af5ecabed6": {
          "model_module": "@jupyter-widgets/base",
          "model_module_version": "1.2.0",
          "model_name": "LayoutModel",
          "state": {
            "_model_module": "@jupyter-widgets/base",
            "_model_module_version": "1.2.0",
            "_model_name": "LayoutModel",
            "_view_count": null,
            "_view_module": "@jupyter-widgets/base",
            "_view_module_version": "1.2.0",
            "_view_name": "LayoutView",
            "align_content": null,
            "align_items": null,
            "align_self": null,
            "border": null,
            "bottom": null,
            "display": null,
            "flex": null,
            "flex_flow": null,
            "grid_area": null,
            "grid_auto_columns": null,
            "grid_auto_flow": null,
            "grid_auto_rows": null,
            "grid_column": null,
            "grid_gap": null,
            "grid_row": null,
            "grid_template_areas": null,
            "grid_template_columns": null,
            "grid_template_rows": null,
            "height": null,
            "justify_content": null,
            "justify_items": null,
            "left": null,
            "margin": null,
            "max_height": null,
            "max_width": null,
            "min_height": null,
            "min_width": null,
            "object_fit": null,
            "object_position": null,
            "order": null,
            "overflow": null,
            "overflow_x": null,
            "overflow_y": null,
            "padding": null,
            "right": null,
            "top": null,
            "visibility": null,
            "width": null
          }
        },
        "401d6f3adc89451d8dae8f9fe255644c": {
          "model_module": "@jupyter-widgets/controls",
          "model_module_version": "1.5.0",
          "model_name": "HBoxModel",
          "state": {
            "_dom_classes": [],
            "_model_module": "@jupyter-widgets/controls",
            "_model_module_version": "1.5.0",
            "_model_name": "HBoxModel",
            "_view_count": null,
            "_view_module": "@jupyter-widgets/controls",
            "_view_module_version": "1.5.0",
            "_view_name": "HBoxView",
            "box_style": "",
            "children": [
              "IPY_MODEL_103247df0356423496015ff0046a1b2d",
              "IPY_MODEL_1633ee81d8b14e89978d991d6b17b5d3",
              "IPY_MODEL_777039d5ab6941f187d11e3a55a3b95b"
            ],
            "layout": "IPY_MODEL_316787a811094ba09948208680c10ac1"
          }
        },
        "43323a07855247c293291f57e9231a11": {
          "model_module": "@jupyter-widgets/controls",
          "model_module_version": "1.5.0",
          "model_name": "HBoxModel",
          "state": {
            "_dom_classes": [],
            "_model_module": "@jupyter-widgets/controls",
            "_model_module_version": "1.5.0",
            "_model_name": "HBoxModel",
            "_view_count": null,
            "_view_module": "@jupyter-widgets/controls",
            "_view_module_version": "1.5.0",
            "_view_name": "HBoxView",
            "box_style": "",
            "children": [
              "IPY_MODEL_b2a392387cb545888a1e100831970f00",
              "IPY_MODEL_92bb0c5dade44ed1ab376f7b776bc175",
              "IPY_MODEL_63e0423edf8643b481a5e7125d3ebe25"
            ],
            "layout": "IPY_MODEL_27c039bda29d41d9aa38e5d7f4f69be8"
          }
        },
        "4470ed18407d4b8696f4cbbc3e9c0df4": {
          "model_module": "@jupyter-widgets/controls",
          "model_module_version": "1.5.0",
          "model_name": "FloatProgressModel",
          "state": {
            "_dom_classes": [],
            "_model_module": "@jupyter-widgets/controls",
            "_model_module_version": "1.5.0",
            "_model_name": "FloatProgressModel",
            "_view_count": null,
            "_view_module": "@jupyter-widgets/controls",
            "_view_module_version": "1.5.0",
            "_view_name": "ProgressView",
            "bar_style": "success",
            "description": "",
            "description_tooltip": null,
            "layout": "IPY_MODEL_615f410069f84d5882d84d8199e2a749",
            "max": 5064823659,
            "min": 0,
            "orientation": "horizontal",
            "style": "IPY_MODEL_fc2bff70875740e6a8fccd3d54e82c22",
            "value": 5064823659
          }
        },
        "488a5e7994ba4e518ee48096572644b5": {
          "model_module": "@jupyter-widgets/base",
          "model_module_version": "1.2.0",
          "model_name": "LayoutModel",
          "state": {
            "_model_module": "@jupyter-widgets/base",
            "_model_module_version": "1.2.0",
            "_model_name": "LayoutModel",
            "_view_count": null,
            "_view_module": "@jupyter-widgets/base",
            "_view_module_version": "1.2.0",
            "_view_name": "LayoutView",
            "align_content": null,
            "align_items": null,
            "align_self": null,
            "border": null,
            "bottom": null,
            "display": null,
            "flex": null,
            "flex_flow": null,
            "grid_area": null,
            "grid_auto_columns": null,
            "grid_auto_flow": null,
            "grid_auto_rows": null,
            "grid_column": null,
            "grid_gap": null,
            "grid_row": null,
            "grid_template_areas": null,
            "grid_template_columns": null,
            "grid_template_rows": null,
            "height": null,
            "justify_content": null,
            "justify_items": null,
            "left": null,
            "margin": null,
            "max_height": null,
            "max_width": null,
            "min_height": null,
            "min_width": null,
            "object_fit": null,
            "object_position": null,
            "order": null,
            "overflow": null,
            "overflow_x": null,
            "overflow_y": null,
            "padding": null,
            "right": null,
            "top": null,
            "visibility": null,
            "width": null
          }
        },
        "5837aa3970a948adaba970022d7b8fc0": {
          "model_module": "@jupyter-widgets/controls",
          "model_module_version": "1.5.0",
          "model_name": "DescriptionStyleModel",
          "state": {
            "_model_module": "@jupyter-widgets/controls",
            "_model_module_version": "1.5.0",
            "_model_name": "DescriptionStyleModel",
            "_view_count": null,
            "_view_module": "@jupyter-widgets/base",
            "_view_module_version": "1.2.0",
            "_view_name": "StyleView",
            "description_width": ""
          }
        },
        "586d7a6984cd4cf3b81eae82c33ad1d9": {
          "model_module": "@jupyter-widgets/controls",
          "model_module_version": "1.5.0",
          "model_name": "HTMLModel",
          "state": {
            "_dom_classes": [],
            "_model_module": "@jupyter-widgets/controls",
            "_model_module_version": "1.5.0",
            "_model_name": "HTMLModel",
            "_view_count": null,
            "_view_module": "@jupyter-widgets/controls",
            "_view_module_version": "1.5.0",
            "_view_name": "HTMLView",
            "description": "",
            "description_tooltip": null,
            "layout": "IPY_MODEL_040032db3fce423989b5945fc8ba517a",
            "placeholder": "​",
            "style": "IPY_MODEL_5837aa3970a948adaba970022d7b8fc0",
            "value": " 23.9k/23.9k [00:00&lt;00:00, 457kB/s]"
          }
        },
        "5c2726a8fc89411ea385fc731288ef54": {
          "model_module": "@jupyter-widgets/controls",
          "model_module_version": "1.5.0",
          "model_name": "HBoxModel",
          "state": {
            "_dom_classes": [],
            "_model_module": "@jupyter-widgets/controls",
            "_model_module_version": "1.5.0",
            "_model_name": "HBoxModel",
            "_view_count": null,
            "_view_module": "@jupyter-widgets/controls",
            "_view_module_version": "1.5.0",
            "_view_name": "HBoxView",
            "box_style": "",
            "children": [
              "IPY_MODEL_15dc60e7bcad487685a85a1e3225fc4b",
              "IPY_MODEL_81bda7c7665e4c8dbe8e107b9f709ec5",
              "IPY_MODEL_586d7a6984cd4cf3b81eae82c33ad1d9"
            ],
            "layout": "IPY_MODEL_a3c60b0b0b8a457f9d714414655f261a"
          }
        },
        "6057d3c101924a3cbf9e0961a32d93a0": {
          "model_module": "@jupyter-widgets/controls",
          "model_module_version": "1.5.0",
          "model_name": "ProgressStyleModel",
          "state": {
            "_model_module": "@jupyter-widgets/controls",
            "_model_module_version": "1.5.0",
            "_model_name": "ProgressStyleModel",
            "_view_count": null,
            "_view_module": "@jupyter-widgets/base",
            "_view_module_version": "1.2.0",
            "_view_name": "StyleView",
            "bar_color": null,
            "description_width": ""
          }
        },
        "615f410069f84d5882d84d8199e2a749": {
          "model_module": "@jupyter-widgets/base",
          "model_module_version": "1.2.0",
          "model_name": "LayoutModel",
          "state": {
            "_model_module": "@jupyter-widgets/base",
            "_model_module_version": "1.2.0",
            "_model_name": "LayoutModel",
            "_view_count": null,
            "_view_module": "@jupyter-widgets/base",
            "_view_module_version": "1.2.0",
            "_view_name": "LayoutView",
            "align_content": null,
            "align_items": null,
            "align_self": null,
            "border": null,
            "bottom": null,
            "display": null,
            "flex": null,
            "flex_flow": null,
            "grid_area": null,
            "grid_auto_columns": null,
            "grid_auto_flow": null,
            "grid_auto_rows": null,
            "grid_column": null,
            "grid_gap": null,
            "grid_row": null,
            "grid_template_areas": null,
            "grid_template_columns": null,
            "grid_template_rows": null,
            "height": null,
            "justify_content": null,
            "justify_items": null,
            "left": null,
            "margin": null,
            "max_height": null,
            "max_width": null,
            "min_height": null,
            "min_width": null,
            "object_fit": null,
            "object_position": null,
            "order": null,
            "overflow": null,
            "overflow_x": null,
            "overflow_y": null,
            "padding": null,
            "right": null,
            "top": null,
            "visibility": null,
            "width": null
          }
        },
        "6373a9811d2440c28d668b83c34a547e": {
          "model_module": "@jupyter-widgets/base",
          "model_module_version": "1.2.0",
          "model_name": "LayoutModel",
          "state": {
            "_model_module": "@jupyter-widgets/base",
            "_model_module_version": "1.2.0",
            "_model_name": "LayoutModel",
            "_view_count": null,
            "_view_module": "@jupyter-widgets/base",
            "_view_module_version": "1.2.0",
            "_view_name": "LayoutView",
            "align_content": null,
            "align_items": null,
            "align_self": null,
            "border": null,
            "bottom": null,
            "display": null,
            "flex": null,
            "flex_flow": null,
            "grid_area": null,
            "grid_auto_columns": null,
            "grid_auto_flow": null,
            "grid_auto_rows": null,
            "grid_column": null,
            "grid_gap": null,
            "grid_row": null,
            "grid_template_areas": null,
            "grid_template_columns": null,
            "grid_template_rows": null,
            "height": null,
            "justify_content": null,
            "justify_items": null,
            "left": null,
            "margin": null,
            "max_height": null,
            "max_width": null,
            "min_height": null,
            "min_width": null,
            "object_fit": null,
            "object_position": null,
            "order": null,
            "overflow": null,
            "overflow_x": null,
            "overflow_y": null,
            "padding": null,
            "right": null,
            "top": null,
            "visibility": null,
            "width": null
          }
        },
        "63e0423edf8643b481a5e7125d3ebe25": {
          "model_module": "@jupyter-widgets/controls",
          "model_module_version": "1.5.0",
          "model_name": "HTMLModel",
          "state": {
            "_dom_classes": [],
            "_model_module": "@jupyter-widgets/controls",
            "_model_module_version": "1.5.0",
            "_model_name": "HTMLModel",
            "_view_count": null,
            "_view_module": "@jupyter-widgets/controls",
            "_view_module_version": "1.5.0",
            "_view_name": "HTMLView",
            "description": "",
            "description_tooltip": null,
            "layout": "IPY_MODEL_6373a9811d2440c28d668b83c34a547e",
            "placeholder": "​",
            "style": "IPY_MODEL_33b95c3769de4e3d8fe6ac4902b762bd",
            "value": " 571/571 [00:00&lt;00:00, 10.0kB/s]"
          }
        },
        "69bbb792560d45b5aac823197bf0aa93": {
          "model_module": "@jupyter-widgets/controls",
          "model_module_version": "1.5.0",
          "model_name": "DescriptionStyleModel",
          "state": {
            "_model_module": "@jupyter-widgets/controls",
            "_model_module_version": "1.5.0",
            "_model_name": "DescriptionStyleModel",
            "_view_count": null,
            "_view_module": "@jupyter-widgets/base",
            "_view_module_version": "1.2.0",
            "_view_name": "StyleView",
            "description_width": ""
          }
        },
        "6ab89af4444149a4a9d5d495f9a4e012": {
          "model_module": "@jupyter-widgets/controls",
          "model_module_version": "1.5.0",
          "model_name": "FloatProgressModel",
          "state": {
            "_dom_classes": [],
            "_model_module": "@jupyter-widgets/controls",
            "_model_module_version": "1.5.0",
            "_model_name": "FloatProgressModel",
            "_view_count": null,
            "_view_module": "@jupyter-widgets/controls",
            "_view_module_version": "1.5.0",
            "_view_name": "ProgressView",
            "bar_style": "success",
            "description": "",
            "description_tooltip": null,
            "layout": "IPY_MODEL_31dccab426ce45178db5357223b6a82f",
            "max": 2,
            "min": 0,
            "orientation": "horizontal",
            "style": "IPY_MODEL_a387839284214a039e628301e852981c",
            "value": 2
          }
        },
        "72d7167d10044fbab09b71c9d59450ad": {
          "model_module": "@jupyter-widgets/controls",
          "model_module_version": "1.5.0",
          "model_name": "HTMLModel",
          "state": {
            "_dom_classes": [],
            "_model_module": "@jupyter-widgets/controls",
            "_model_module_version": "1.5.0",
            "_model_name": "HTMLModel",
            "_view_count": null,
            "_view_module": "@jupyter-widgets/controls",
            "_view_module_version": "1.5.0",
            "_view_name": "HTMLView",
            "description": "",
            "description_tooltip": null,
            "layout": "IPY_MODEL_a670c560c2ac4d05aa1ad7b7fd5b28c2",
            "placeholder": "​",
            "style": "IPY_MODEL_31aced6b224a4f3aa8a4d4ece3473c89",
            "value": " 5.06G/5.06G [00:40&lt;00:00, 153MB/s]"
          }
        },
        "7758401911934bfa808f7828600c9ace": {
          "model_module": "@jupyter-widgets/base",
          "model_module_version": "1.2.0",
          "model_name": "LayoutModel",
          "state": {
            "_model_module": "@jupyter-widgets/base",
            "_model_module_version": "1.2.0",
            "_model_name": "LayoutModel",
            "_view_count": null,
            "_view_module": "@jupyter-widgets/base",
            "_view_module_version": "1.2.0",
            "_view_name": "LayoutView",
            "align_content": null,
            "align_items": null,
            "align_self": null,
            "border": null,
            "bottom": null,
            "display": null,
            "flex": null,
            "flex_flow": null,
            "grid_area": null,
            "grid_auto_columns": null,
            "grid_auto_flow": null,
            "grid_auto_rows": null,
            "grid_column": null,
            "grid_gap": null,
            "grid_row": null,
            "grid_template_areas": null,
            "grid_template_columns": null,
            "grid_template_rows": null,
            "height": null,
            "justify_content": null,
            "justify_items": null,
            "left": null,
            "margin": null,
            "max_height": null,
            "max_width": null,
            "min_height": null,
            "min_width": null,
            "object_fit": null,
            "object_position": null,
            "order": null,
            "overflow": null,
            "overflow_x": null,
            "overflow_y": null,
            "padding": null,
            "right": null,
            "top": null,
            "visibility": null,
            "width": null
          }
        },
        "777039d5ab6941f187d11e3a55a3b95b": {
          "model_module": "@jupyter-widgets/controls",
          "model_module_version": "1.5.0",
          "model_name": "HTMLModel",
          "state": {
            "_dom_classes": [],
            "_model_module": "@jupyter-widgets/controls",
            "_model_module_version": "1.5.0",
            "_model_name": "HTMLModel",
            "_view_count": null,
            "_view_module": "@jupyter-widgets/controls",
            "_view_module_version": "1.5.0",
            "_view_name": "HTMLView",
            "description": "",
            "description_tooltip": null,
            "layout": "IPY_MODEL_488a5e7994ba4e518ee48096572644b5",
            "placeholder": "​",
            "style": "IPY_MODEL_0312df16082d44379b6f44a7dfae1329",
            "value": " 9.94G/9.94G [03:46&lt;00:00, 45.4MB/s]"
          }
        },
        "785a2c530f91482eb5d0f94cc158a756": {
          "model_module": "@jupyter-widgets/controls",
          "model_module_version": "1.5.0",
          "model_name": "ProgressStyleModel",
          "state": {
            "_model_module": "@jupyter-widgets/controls",
            "_model_module_version": "1.5.0",
            "_model_name": "ProgressStyleModel",
            "_view_count": null,
            "_view_module": "@jupyter-widgets/base",
            "_view_module_version": "1.2.0",
            "_view_name": "StyleView",
            "bar_color": null,
            "description_width": ""
          }
        },
        "81bda7c7665e4c8dbe8e107b9f709ec5": {
          "model_module": "@jupyter-widgets/controls",
          "model_module_version": "1.5.0",
          "model_name": "FloatProgressModel",
          "state": {
            "_dom_classes": [],
            "_model_module": "@jupyter-widgets/controls",
            "_model_module_version": "1.5.0",
            "_model_name": "FloatProgressModel",
            "_view_count": null,
            "_view_module": "@jupyter-widgets/controls",
            "_view_module_version": "1.5.0",
            "_view_name": "ProgressView",
            "bar_style": "success",
            "description": "",
            "description_tooltip": null,
            "layout": "IPY_MODEL_c8b661b9f8d6498ebda3d94100e6a015",
            "max": 23950,
            "min": 0,
            "orientation": "horizontal",
            "style": "IPY_MODEL_785a2c530f91482eb5d0f94cc158a756",
            "value": 23950
          }
        },
        "9120cc5903b64a73928c2a9948cf034e": {
          "model_module": "@jupyter-widgets/base",
          "model_module_version": "1.2.0",
          "model_name": "LayoutModel",
          "state": {
            "_model_module": "@jupyter-widgets/base",
            "_model_module_version": "1.2.0",
            "_model_name": "LayoutModel",
            "_view_count": null,
            "_view_module": "@jupyter-widgets/base",
            "_view_module_version": "1.2.0",
            "_view_name": "LayoutView",
            "align_content": null,
            "align_items": null,
            "align_self": null,
            "border": null,
            "bottom": null,
            "display": null,
            "flex": null,
            "flex_flow": null,
            "grid_area": null,
            "grid_auto_columns": null,
            "grid_auto_flow": null,
            "grid_auto_rows": null,
            "grid_column": null,
            "grid_gap": null,
            "grid_row": null,
            "grid_template_areas": null,
            "grid_template_columns": null,
            "grid_template_rows": null,
            "height": null,
            "justify_content": null,
            "justify_items": null,
            "left": null,
            "margin": null,
            "max_height": null,
            "max_width": null,
            "min_height": null,
            "min_width": null,
            "object_fit": null,
            "object_position": null,
            "order": null,
            "overflow": null,
            "overflow_x": null,
            "overflow_y": null,
            "padding": null,
            "right": null,
            "top": null,
            "visibility": null,
            "width": null
          }
        },
        "926bf623cf9b42a6b6e84b7eb73b67d7": {
          "model_module": "@jupyter-widgets/base",
          "model_module_version": "1.2.0",
          "model_name": "LayoutModel",
          "state": {
            "_model_module": "@jupyter-widgets/base",
            "_model_module_version": "1.2.0",
            "_model_name": "LayoutModel",
            "_view_count": null,
            "_view_module": "@jupyter-widgets/base",
            "_view_module_version": "1.2.0",
            "_view_name": "LayoutView",
            "align_content": null,
            "align_items": null,
            "align_self": null,
            "border": null,
            "bottom": null,
            "display": null,
            "flex": null,
            "flex_flow": null,
            "grid_area": null,
            "grid_auto_columns": null,
            "grid_auto_flow": null,
            "grid_auto_rows": null,
            "grid_column": null,
            "grid_gap": null,
            "grid_row": null,
            "grid_template_areas": null,
            "grid_template_columns": null,
            "grid_template_rows": null,
            "height": null,
            "justify_content": null,
            "justify_items": null,
            "left": null,
            "margin": null,
            "max_height": null,
            "max_width": null,
            "min_height": null,
            "min_width": null,
            "object_fit": null,
            "object_position": null,
            "order": null,
            "overflow": null,
            "overflow_x": null,
            "overflow_y": null,
            "padding": null,
            "right": null,
            "top": null,
            "visibility": null,
            "width": null
          }
        },
        "92927568a0f84a97993bc7bfb37d400b": {
          "model_module": "@jupyter-widgets/controls",
          "model_module_version": "1.5.0",
          "model_name": "DescriptionStyleModel",
          "state": {
            "_model_module": "@jupyter-widgets/controls",
            "_model_module_version": "1.5.0",
            "_model_name": "DescriptionStyleModel",
            "_view_count": null,
            "_view_module": "@jupyter-widgets/base",
            "_view_module_version": "1.2.0",
            "_view_name": "StyleView",
            "description_width": ""
          }
        },
        "92bb0c5dade44ed1ab376f7b776bc175": {
          "model_module": "@jupyter-widgets/controls",
          "model_module_version": "1.5.0",
          "model_name": "FloatProgressModel",
          "state": {
            "_dom_classes": [],
            "_model_module": "@jupyter-widgets/controls",
            "_model_module_version": "1.5.0",
            "_model_name": "FloatProgressModel",
            "_view_count": null,
            "_view_module": "@jupyter-widgets/controls",
            "_view_module_version": "1.5.0",
            "_view_name": "ProgressView",
            "bar_style": "success",
            "description": "",
            "description_tooltip": null,
            "layout": "IPY_MODEL_926bf623cf9b42a6b6e84b7eb73b67d7",
            "max": 571,
            "min": 0,
            "orientation": "horizontal",
            "style": "IPY_MODEL_a081a33190784ba4aa4c7460ae9069f8",
            "value": 571
          }
        },
        "96e42b47dd8348e1a1564ff7b79420bd": {
          "model_module": "@jupyter-widgets/base",
          "model_module_version": "1.2.0",
          "model_name": "LayoutModel",
          "state": {
            "_model_module": "@jupyter-widgets/base",
            "_model_module_version": "1.2.0",
            "_model_name": "LayoutModel",
            "_view_count": null,
            "_view_module": "@jupyter-widgets/base",
            "_view_module_version": "1.2.0",
            "_view_name": "LayoutView",
            "align_content": null,
            "align_items": null,
            "align_self": null,
            "border": null,
            "bottom": null,
            "display": null,
            "flex": null,
            "flex_flow": null,
            "grid_area": null,
            "grid_auto_columns": null,
            "grid_auto_flow": null,
            "grid_auto_rows": null,
            "grid_column": null,
            "grid_gap": null,
            "grid_row": null,
            "grid_template_areas": null,
            "grid_template_columns": null,
            "grid_template_rows": null,
            "height": null,
            "justify_content": null,
            "justify_items": null,
            "left": null,
            "margin": null,
            "max_height": null,
            "max_width": null,
            "min_height": null,
            "min_width": null,
            "object_fit": null,
            "object_position": null,
            "order": null,
            "overflow": null,
            "overflow_x": null,
            "overflow_y": null,
            "padding": null,
            "right": null,
            "top": null,
            "visibility": null,
            "width": null
          }
        },
        "a081a33190784ba4aa4c7460ae9069f8": {
          "model_module": "@jupyter-widgets/controls",
          "model_module_version": "1.5.0",
          "model_name": "ProgressStyleModel",
          "state": {
            "_model_module": "@jupyter-widgets/controls",
            "_model_module_version": "1.5.0",
            "_model_name": "ProgressStyleModel",
            "_view_count": null,
            "_view_module": "@jupyter-widgets/base",
            "_view_module_version": "1.2.0",
            "_view_name": "StyleView",
            "bar_color": null,
            "description_width": ""
          }
        },
        "a0af50b5525744379cd6bd468e1ebb3f": {
          "model_module": "@jupyter-widgets/controls",
          "model_module_version": "1.5.0",
          "model_name": "DescriptionStyleModel",
          "state": {
            "_model_module": "@jupyter-widgets/controls",
            "_model_module_version": "1.5.0",
            "_model_name": "DescriptionStyleModel",
            "_view_count": null,
            "_view_module": "@jupyter-widgets/base",
            "_view_module_version": "1.2.0",
            "_view_name": "StyleView",
            "description_width": ""
          }
        },
        "a387839284214a039e628301e852981c": {
          "model_module": "@jupyter-widgets/controls",
          "model_module_version": "1.5.0",
          "model_name": "ProgressStyleModel",
          "state": {
            "_model_module": "@jupyter-widgets/controls",
            "_model_module_version": "1.5.0",
            "_model_name": "ProgressStyleModel",
            "_view_count": null,
            "_view_module": "@jupyter-widgets/base",
            "_view_module_version": "1.2.0",
            "_view_name": "StyleView",
            "bar_color": null,
            "description_width": ""
          }
        },
        "a3c60b0b0b8a457f9d714414655f261a": {
          "model_module": "@jupyter-widgets/base",
          "model_module_version": "1.2.0",
          "model_name": "LayoutModel",
          "state": {
            "_model_module": "@jupyter-widgets/base",
            "_model_module_version": "1.2.0",
            "_model_name": "LayoutModel",
            "_view_count": null,
            "_view_module": "@jupyter-widgets/base",
            "_view_module_version": "1.2.0",
            "_view_name": "LayoutView",
            "align_content": null,
            "align_items": null,
            "align_self": null,
            "border": null,
            "bottom": null,
            "display": null,
            "flex": null,
            "flex_flow": null,
            "grid_area": null,
            "grid_auto_columns": null,
            "grid_auto_flow": null,
            "grid_auto_rows": null,
            "grid_column": null,
            "grid_gap": null,
            "grid_row": null,
            "grid_template_areas": null,
            "grid_template_columns": null,
            "grid_template_rows": null,
            "height": null,
            "justify_content": null,
            "justify_items": null,
            "left": null,
            "margin": null,
            "max_height": null,
            "max_width": null,
            "min_height": null,
            "min_width": null,
            "object_fit": null,
            "object_position": null,
            "order": null,
            "overflow": null,
            "overflow_x": null,
            "overflow_y": null,
            "padding": null,
            "right": null,
            "top": null,
            "visibility": null,
            "width": null
          }
        },
        "a670c560c2ac4d05aa1ad7b7fd5b28c2": {
          "model_module": "@jupyter-widgets/base",
          "model_module_version": "1.2.0",
          "model_name": "LayoutModel",
          "state": {
            "_model_module": "@jupyter-widgets/base",
            "_model_module_version": "1.2.0",
            "_model_name": "LayoutModel",
            "_view_count": null,
            "_view_module": "@jupyter-widgets/base",
            "_view_module_version": "1.2.0",
            "_view_name": "LayoutView",
            "align_content": null,
            "align_items": null,
            "align_self": null,
            "border": null,
            "bottom": null,
            "display": null,
            "flex": null,
            "flex_flow": null,
            "grid_area": null,
            "grid_auto_columns": null,
            "grid_auto_flow": null,
            "grid_auto_rows": null,
            "grid_column": null,
            "grid_gap": null,
            "grid_row": null,
            "grid_template_areas": null,
            "grid_template_columns": null,
            "grid_template_rows": null,
            "height": null,
            "justify_content": null,
            "justify_items": null,
            "left": null,
            "margin": null,
            "max_height": null,
            "max_width": null,
            "min_height": null,
            "min_width": null,
            "object_fit": null,
            "object_position": null,
            "order": null,
            "overflow": null,
            "overflow_x": null,
            "overflow_y": null,
            "padding": null,
            "right": null,
            "top": null,
            "visibility": null,
            "width": null
          }
        },
        "adbf6dd20c92425ab980199d68506cc7": {
          "model_module": "@jupyter-widgets/controls",
          "model_module_version": "1.5.0",
          "model_name": "HTMLModel",
          "state": {
            "_dom_classes": [],
            "_model_module": "@jupyter-widgets/controls",
            "_model_module_version": "1.5.0",
            "_model_name": "HTMLModel",
            "_view_count": null,
            "_view_module": "@jupyter-widgets/controls",
            "_view_module_version": "1.5.0",
            "_view_name": "HTMLView",
            "description": "",
            "description_tooltip": null,
            "layout": "IPY_MODEL_3b201361d07946ba8c2d03af5ecabed6",
            "placeholder": "​",
            "style": "IPY_MODEL_c5ba0803b98145b8b1b51dc8f65d29a6",
            "value": "Downloading shards: 100%"
          }
        },
        "b2a392387cb545888a1e100831970f00": {
          "model_module": "@jupyter-widgets/controls",
          "model_module_version": "1.5.0",
          "model_name": "HTMLModel",
          "state": {
            "_dom_classes": [],
            "_model_module": "@jupyter-widgets/controls",
            "_model_module_version": "1.5.0",
            "_model_name": "HTMLModel",
            "_view_count": null,
            "_view_module": "@jupyter-widgets/controls",
            "_view_module_version": "1.5.0",
            "_view_name": "HTMLView",
            "description": "",
            "description_tooltip": null,
            "layout": "IPY_MODEL_e2f759b236d242fd859752f7a6b2e872",
            "placeholder": "​",
            "style": "IPY_MODEL_92927568a0f84a97993bc7bfb37d400b",
            "value": "config.json: 100%"
          }
        },
        "c36088e770f24311b4c5e4391816c5af": {
          "model_module": "@jupyter-widgets/base",
          "model_module_version": "1.2.0",
          "model_name": "LayoutModel",
          "state": {
            "_model_module": "@jupyter-widgets/base",
            "_model_module_version": "1.2.0",
            "_model_name": "LayoutModel",
            "_view_count": null,
            "_view_module": "@jupyter-widgets/base",
            "_view_module_version": "1.2.0",
            "_view_name": "LayoutView",
            "align_content": null,
            "align_items": null,
            "align_self": null,
            "border": null,
            "bottom": null,
            "display": null,
            "flex": null,
            "flex_flow": null,
            "grid_area": null,
            "grid_auto_columns": null,
            "grid_auto_flow": null,
            "grid_auto_rows": null,
            "grid_column": null,
            "grid_gap": null,
            "grid_row": null,
            "grid_template_areas": null,
            "grid_template_columns": null,
            "grid_template_rows": null,
            "height": null,
            "justify_content": null,
            "justify_items": null,
            "left": null,
            "margin": null,
            "max_height": null,
            "max_width": null,
            "min_height": null,
            "min_width": null,
            "object_fit": null,
            "object_position": null,
            "order": null,
            "overflow": null,
            "overflow_x": null,
            "overflow_y": null,
            "padding": null,
            "right": null,
            "top": null,
            "visibility": null,
            "width": null
          }
        },
        "c5ba0803b98145b8b1b51dc8f65d29a6": {
          "model_module": "@jupyter-widgets/controls",
          "model_module_version": "1.5.0",
          "model_name": "DescriptionStyleModel",
          "state": {
            "_model_module": "@jupyter-widgets/controls",
            "_model_module_version": "1.5.0",
            "_model_name": "DescriptionStyleModel",
            "_view_count": null,
            "_view_module": "@jupyter-widgets/base",
            "_view_module_version": "1.2.0",
            "_view_name": "StyleView",
            "description_width": ""
          }
        },
        "c71734c49f0c45fb9153abf0cd3617ed": {
          "model_module": "@jupyter-widgets/controls",
          "model_module_version": "1.5.0",
          "model_name": "HBoxModel",
          "state": {
            "_dom_classes": [],
            "_model_module": "@jupyter-widgets/controls",
            "_model_module_version": "1.5.0",
            "_model_name": "HBoxModel",
            "_view_count": null,
            "_view_module": "@jupyter-widgets/controls",
            "_view_module_version": "1.5.0",
            "_view_name": "HBoxView",
            "box_style": "",
            "children": [
              "IPY_MODEL_adbf6dd20c92425ab980199d68506cc7",
              "IPY_MODEL_6ab89af4444149a4a9d5d495f9a4e012",
              "IPY_MODEL_c8c055f4ad094e55a2c405d43ddfcdab"
            ],
            "layout": "IPY_MODEL_e710e8ae6af246de8ac5faab893ad064"
          }
        },
        "c8b661b9f8d6498ebda3d94100e6a015": {
          "model_module": "@jupyter-widgets/base",
          "model_module_version": "1.2.0",
          "model_name": "LayoutModel",
          "state": {
            "_model_module": "@jupyter-widgets/base",
            "_model_module_version": "1.2.0",
            "_model_name": "LayoutModel",
            "_view_count": null,
            "_view_module": "@jupyter-widgets/base",
            "_view_module_version": "1.2.0",
            "_view_name": "LayoutView",
            "align_content": null,
            "align_items": null,
            "align_self": null,
            "border": null,
            "bottom": null,
            "display": null,
            "flex": null,
            "flex_flow": null,
            "grid_area": null,
            "grid_auto_columns": null,
            "grid_auto_flow": null,
            "grid_auto_rows": null,
            "grid_column": null,
            "grid_gap": null,
            "grid_row": null,
            "grid_template_areas": null,
            "grid_template_columns": null,
            "grid_template_rows": null,
            "height": null,
            "justify_content": null,
            "justify_items": null,
            "left": null,
            "margin": null,
            "max_height": null,
            "max_width": null,
            "min_height": null,
            "min_width": null,
            "object_fit": null,
            "object_position": null,
            "order": null,
            "overflow": null,
            "overflow_x": null,
            "overflow_y": null,
            "padding": null,
            "right": null,
            "top": null,
            "visibility": null,
            "width": null
          }
        },
        "c8c055f4ad094e55a2c405d43ddfcdab": {
          "model_module": "@jupyter-widgets/controls",
          "model_module_version": "1.5.0",
          "model_name": "HTMLModel",
          "state": {
            "_dom_classes": [],
            "_model_module": "@jupyter-widgets/controls",
            "_model_module_version": "1.5.0",
            "_model_name": "HTMLModel",
            "_view_count": null,
            "_view_module": "@jupyter-widgets/controls",
            "_view_module_version": "1.5.0",
            "_view_name": "HTMLView",
            "description": "",
            "description_tooltip": null,
            "layout": "IPY_MODEL_9120cc5903b64a73928c2a9948cf034e",
            "placeholder": "​",
            "style": "IPY_MODEL_0b52051ce4774abbb3f6f85afcc3f22d",
            "value": " 2/2 [04:28&lt;00:00, 117.62s/it]"
          }
        },
        "d7b480e5996f49e7a8f1bf884df27348": {
          "model_module": "@jupyter-widgets/base",
          "model_module_version": "1.2.0",
          "model_name": "LayoutModel",
          "state": {
            "_model_module": "@jupyter-widgets/base",
            "_model_module_version": "1.2.0",
            "_model_name": "LayoutModel",
            "_view_count": null,
            "_view_module": "@jupyter-widgets/base",
            "_view_module_version": "1.2.0",
            "_view_name": "LayoutView",
            "align_content": null,
            "align_items": null,
            "align_self": null,
            "border": null,
            "bottom": null,
            "display": null,
            "flex": null,
            "flex_flow": null,
            "grid_area": null,
            "grid_auto_columns": null,
            "grid_auto_flow": null,
            "grid_auto_rows": null,
            "grid_column": null,
            "grid_gap": null,
            "grid_row": null,
            "grid_template_areas": null,
            "grid_template_columns": null,
            "grid_template_rows": null,
            "height": null,
            "justify_content": null,
            "justify_items": null,
            "left": null,
            "margin": null,
            "max_height": null,
            "max_width": null,
            "min_height": null,
            "min_width": null,
            "object_fit": null,
            "object_position": null,
            "order": null,
            "overflow": null,
            "overflow_x": null,
            "overflow_y": null,
            "padding": null,
            "right": null,
            "top": null,
            "visibility": null,
            "width": null
          }
        },
        "e2f759b236d242fd859752f7a6b2e872": {
          "model_module": "@jupyter-widgets/base",
          "model_module_version": "1.2.0",
          "model_name": "LayoutModel",
          "state": {
            "_model_module": "@jupyter-widgets/base",
            "_model_module_version": "1.2.0",
            "_model_name": "LayoutModel",
            "_view_count": null,
            "_view_module": "@jupyter-widgets/base",
            "_view_module_version": "1.2.0",
            "_view_name": "LayoutView",
            "align_content": null,
            "align_items": null,
            "align_self": null,
            "border": null,
            "bottom": null,
            "display": null,
            "flex": null,
            "flex_flow": null,
            "grid_area": null,
            "grid_auto_columns": null,
            "grid_auto_flow": null,
            "grid_auto_rows": null,
            "grid_column": null,
            "grid_gap": null,
            "grid_row": null,
            "grid_template_areas": null,
            "grid_template_columns": null,
            "grid_template_rows": null,
            "height": null,
            "justify_content": null,
            "justify_items": null,
            "left": null,
            "margin": null,
            "max_height": null,
            "max_width": null,
            "min_height": null,
            "min_width": null,
            "object_fit": null,
            "object_position": null,
            "order": null,
            "overflow": null,
            "overflow_x": null,
            "overflow_y": null,
            "padding": null,
            "right": null,
            "top": null,
            "visibility": null,
            "width": null
          }
        },
        "e5928bfd3dbc4efca75ef97ff7fb3b86": {
          "model_module": "@jupyter-widgets/controls",
          "model_module_version": "1.5.0",
          "model_name": "HBoxModel",
          "state": {
            "_dom_classes": [],
            "_model_module": "@jupyter-widgets/controls",
            "_model_module_version": "1.5.0",
            "_model_name": "HBoxModel",
            "_view_count": null,
            "_view_module": "@jupyter-widgets/controls",
            "_view_module_version": "1.5.0",
            "_view_name": "HBoxView",
            "box_style": "",
            "children": [
              "IPY_MODEL_07142c573eae40bda941984c6d20fab9",
              "IPY_MODEL_4470ed18407d4b8696f4cbbc3e9c0df4",
              "IPY_MODEL_72d7167d10044fbab09b71c9d59450ad"
            ],
            "layout": "IPY_MODEL_7758401911934bfa808f7828600c9ace"
          }
        },
        "e710e8ae6af246de8ac5faab893ad064": {
          "model_module": "@jupyter-widgets/base",
          "model_module_version": "1.2.0",
          "model_name": "LayoutModel",
          "state": {
            "_model_module": "@jupyter-widgets/base",
            "_model_module_version": "1.2.0",
            "_model_name": "LayoutModel",
            "_view_count": null,
            "_view_module": "@jupyter-widgets/base",
            "_view_module_version": "1.2.0",
            "_view_name": "LayoutView",
            "align_content": null,
            "align_items": null,
            "align_self": null,
            "border": null,
            "bottom": null,
            "display": null,
            "flex": null,
            "flex_flow": null,
            "grid_area": null,
            "grid_auto_columns": null,
            "grid_auto_flow": null,
            "grid_auto_rows": null,
            "grid_column": null,
            "grid_gap": null,
            "grid_row": null,
            "grid_template_areas": null,
            "grid_template_columns": null,
            "grid_template_rows": null,
            "height": null,
            "justify_content": null,
            "justify_items": null,
            "left": null,
            "margin": null,
            "max_height": null,
            "max_width": null,
            "min_height": null,
            "min_width": null,
            "object_fit": null,
            "object_position": null,
            "order": null,
            "overflow": null,
            "overflow_x": null,
            "overflow_y": null,
            "padding": null,
            "right": null,
            "top": null,
            "visibility": null,
            "width": null
          }
        },
        "fc2bff70875740e6a8fccd3d54e82c22": {
          "model_module": "@jupyter-widgets/controls",
          "model_module_version": "1.5.0",
          "model_name": "ProgressStyleModel",
          "state": {
            "_model_module": "@jupyter-widgets/controls",
            "_model_module_version": "1.5.0",
            "_model_name": "ProgressStyleModel",
            "_view_count": null,
            "_view_module": "@jupyter-widgets/base",
            "_view_module_version": "1.2.0",
            "_view_name": "StyleView",
            "bar_color": null,
            "description_width": ""
          }
        }
      }
    }
  },
  "nbformat": 4,
  "nbformat_minor": 0
}
